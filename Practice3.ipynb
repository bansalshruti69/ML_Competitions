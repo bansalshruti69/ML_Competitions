{
 "cells": [
  {
   "cell_type": "code",
   "execution_count": 17,
   "metadata": {},
   "outputs": [],
   "source": [
    "import pandas as pd"
   ]
  },
  {
   "cell_type": "code",
   "execution_count": 73,
   "metadata": {},
   "outputs": [],
   "source": [
    "train_data = pd.read_csv('train_vidya3.csv')"
   ]
  },
  {
   "cell_type": "code",
   "execution_count": 19,
   "metadata": {},
   "outputs": [],
   "source": [
    "test_data = pd.read_csv('test_vidya3.csv')"
   ]
  },
  {
   "cell_type": "code",
   "execution_count": 216,
   "metadata": {},
   "outputs": [
    {
     "data": {
      "text/html": [
       "<div>\n",
       "<style scoped>\n",
       "    .dataframe tbody tr th:only-of-type {\n",
       "        vertical-align: middle;\n",
       "    }\n",
       "\n",
       "    .dataframe tbody tr th {\n",
       "        vertical-align: top;\n",
       "    }\n",
       "\n",
       "    .dataframe thead th {\n",
       "        text-align: right;\n",
       "    }\n",
       "</style>\n",
       "<table border=\"1\" class=\"dataframe\">\n",
       "  <thead>\n",
       "    <tr style=\"text-align: right;\">\n",
       "      <th></th>\n",
       "      <th>ID</th>\n",
       "      <th>Gender</th>\n",
       "      <th>DOB</th>\n",
       "      <th>Lead_Creation_Date</th>\n",
       "      <th>City_Code</th>\n",
       "      <th>City_Category</th>\n",
       "      <th>Employer_Code</th>\n",
       "      <th>Employer_Category1</th>\n",
       "      <th>Employer_Category2</th>\n",
       "      <th>Monthly_Income</th>\n",
       "      <th>...</th>\n",
       "      <th>Contacted</th>\n",
       "      <th>Source</th>\n",
       "      <th>Source_Category</th>\n",
       "      <th>Existing_EMI</th>\n",
       "      <th>Loan_Amount</th>\n",
       "      <th>Loan_Period</th>\n",
       "      <th>Interest_Rate</th>\n",
       "      <th>EMI</th>\n",
       "      <th>Var1</th>\n",
       "      <th>Approved</th>\n",
       "    </tr>\n",
       "  </thead>\n",
       "  <tbody>\n",
       "    <tr>\n",
       "      <th>64052</th>\n",
       "      <td>APPR50149904119</td>\n",
       "      <td>Male</td>\n",
       "      <td>83</td>\n",
       "      <td>924</td>\n",
       "      <td>C10001</td>\n",
       "      <td>A</td>\n",
       "      <td>COM0000088</td>\n",
       "      <td>A</td>\n",
       "      <td>1.0</td>\n",
       "      <td>4000.0</td>\n",
       "      <td>...</td>\n",
       "      <td>Y</td>\n",
       "      <td>S122</td>\n",
       "      <td>G</td>\n",
       "      <td>0.0</td>\n",
       "      <td>72000.0</td>\n",
       "      <td>4.0</td>\n",
       "      <td>13.99</td>\n",
       "      <td>1967.0</td>\n",
       "      <td>7</td>\n",
       "      <td>0</td>\n",
       "    </tr>\n",
       "    <tr>\n",
       "      <th>34080</th>\n",
       "      <td>APPE90308784248</td>\n",
       "      <td>Female</td>\n",
       "      <td>90</td>\n",
       "      <td>818</td>\n",
       "      <td>C10103</td>\n",
       "      <td>C</td>\n",
       "      <td>COM0040325</td>\n",
       "      <td>A</td>\n",
       "      <td>4.0</td>\n",
       "      <td>1350.0</td>\n",
       "      <td>...</td>\n",
       "      <td>N</td>\n",
       "      <td>S133</td>\n",
       "      <td>B</td>\n",
       "      <td>320.0</td>\n",
       "      <td>NaN</td>\n",
       "      <td>NaN</td>\n",
       "      <td>NaN</td>\n",
       "      <td>NaN</td>\n",
       "      <td>0</td>\n",
       "      <td>0</td>\n",
       "    </tr>\n",
       "    <tr>\n",
       "      <th>13632</th>\n",
       "      <td>APPD60934413918</td>\n",
       "      <td>Female</td>\n",
       "      <td>81</td>\n",
       "      <td>720</td>\n",
       "      <td>C10005</td>\n",
       "      <td>A</td>\n",
       "      <td>COM0005876</td>\n",
       "      <td>A</td>\n",
       "      <td>4.0</td>\n",
       "      <td>1889.2</td>\n",
       "      <td>...</td>\n",
       "      <td>Y</td>\n",
       "      <td>S143</td>\n",
       "      <td>B</td>\n",
       "      <td>370.0</td>\n",
       "      <td>10000.0</td>\n",
       "      <td>3.0</td>\n",
       "      <td>20.00</td>\n",
       "      <td>372.0</td>\n",
       "      <td>2</td>\n",
       "      <td>0</td>\n",
       "    </tr>\n",
       "    <tr>\n",
       "      <th>11431</th>\n",
       "      <td>APPZ40854273339</td>\n",
       "      <td>Female</td>\n",
       "      <td>94</td>\n",
       "      <td>717</td>\n",
       "      <td>C10002</td>\n",
       "      <td>A</td>\n",
       "      <td>COM0000052</td>\n",
       "      <td>B</td>\n",
       "      <td>2.0</td>\n",
       "      <td>1700.0</td>\n",
       "      <td>...</td>\n",
       "      <td>N</td>\n",
       "      <td>S133</td>\n",
       "      <td>C</td>\n",
       "      <td>0.0</td>\n",
       "      <td>NaN</td>\n",
       "      <td>NaN</td>\n",
       "      <td>NaN</td>\n",
       "      <td>NaN</td>\n",
       "      <td>0</td>\n",
       "      <td>0</td>\n",
       "    </tr>\n",
       "    <tr>\n",
       "      <th>43825</th>\n",
       "      <td>APPK80127089231</td>\n",
       "      <td>Female</td>\n",
       "      <td>80</td>\n",
       "      <td>831</td>\n",
       "      <td>C10003</td>\n",
       "      <td>A</td>\n",
       "      <td>COM0001598</td>\n",
       "      <td>C</td>\n",
       "      <td>4.0</td>\n",
       "      <td>2100.0</td>\n",
       "      <td>...</td>\n",
       "      <td>N</td>\n",
       "      <td>S122</td>\n",
       "      <td>G</td>\n",
       "      <td>1200.0</td>\n",
       "      <td>NaN</td>\n",
       "      <td>NaN</td>\n",
       "      <td>NaN</td>\n",
       "      <td>NaN</td>\n",
       "      <td>0</td>\n",
       "      <td>0</td>\n",
       "    </tr>\n",
       "  </tbody>\n",
       "</table>\n",
       "<p>5 rows × 22 columns</p>\n",
       "</div>"
      ],
      "text/plain": [
       "                    ID  Gender  DOB  Lead_Creation_Date City_Code  \\\n",
       "64052  APPR50149904119    Male   83                 924    C10001   \n",
       "34080  APPE90308784248  Female   90                 818    C10103   \n",
       "13632  APPD60934413918  Female   81                 720    C10005   \n",
       "11431  APPZ40854273339  Female   94                 717    C10002   \n",
       "43825  APPK80127089231  Female   80                 831    C10003   \n",
       "\n",
       "      City_Category Employer_Code Employer_Category1  Employer_Category2  \\\n",
       "64052             A    COM0000088                  A                 1.0   \n",
       "34080             C    COM0040325                  A                 4.0   \n",
       "13632             A    COM0005876                  A                 4.0   \n",
       "11431             A    COM0000052                  B                 2.0   \n",
       "43825             A    COM0001598                  C                 4.0   \n",
       "\n",
       "       Monthly_Income    ...     Contacted Source Source_Category  \\\n",
       "64052          4000.0    ...             Y   S122               G   \n",
       "34080          1350.0    ...             N   S133               B   \n",
       "13632          1889.2    ...             Y   S143               B   \n",
       "11431          1700.0    ...             N   S133               C   \n",
       "43825          2100.0    ...             N   S122               G   \n",
       "\n",
       "      Existing_EMI Loan_Amount  Loan_Period  Interest_Rate     EMI  Var1  \\\n",
       "64052          0.0     72000.0          4.0          13.99  1967.0     7   \n",
       "34080        320.0         NaN          NaN            NaN     NaN     0   \n",
       "13632        370.0     10000.0          3.0          20.00   372.0     2   \n",
       "11431          0.0         NaN          NaN            NaN     NaN     0   \n",
       "43825       1200.0         NaN          NaN            NaN     NaN     0   \n",
       "\n",
       "       Approved  \n",
       "64052         0  \n",
       "34080         0  \n",
       "13632         0  \n",
       "11431         0  \n",
       "43825         0  \n",
       "\n",
       "[5 rows x 22 columns]"
      ]
     },
     "execution_count": 216,
     "metadata": {},
     "output_type": "execute_result"
    }
   ],
   "source": [
    "train_data.head()"
   ]
  },
  {
   "cell_type": "code",
   "execution_count": 49,
   "metadata": {},
   "outputs": [
    {
     "ename": "ValueError",
     "evalue": "invalid literal for int() with base 10: 'an'",
     "output_type": "error",
     "traceback": [
      "\u001b[0;31m---------------------------------------------------------------------------\u001b[0m",
      "\u001b[0;31mValueError\u001b[0m                                Traceback (most recent call last)",
      "\u001b[0;32m<ipython-input-49-5dfcd5697a0d>\u001b[0m in \u001b[0;36m<module>\u001b[0;34m()\u001b[0m\n\u001b[0;32m----> 1\u001b[0;31m \u001b[0mtrain_data\u001b[0m\u001b[0;34m[\u001b[0m\u001b[0;34m'DOB'\u001b[0m\u001b[0;34m]\u001b[0m \u001b[0;34m=\u001b[0m \u001b[0mtrain_data\u001b[0m\u001b[0;34m[\u001b[0m\u001b[0;34m'DOB'\u001b[0m\u001b[0;34m]\u001b[0m\u001b[0;34m.\u001b[0m\u001b[0mapply\u001b[0m\u001b[0;34m(\u001b[0m\u001b[0;32mlambda\u001b[0m \u001b[0mx\u001b[0m\u001b[0;34m:\u001b[0m \u001b[0mint\u001b[0m\u001b[0;34m(\u001b[0m\u001b[0mstr\u001b[0m\u001b[0;34m(\u001b[0m\u001b[0mx\u001b[0m\u001b[0;34m)\u001b[0m\u001b[0;34m[\u001b[0m\u001b[0;34m-\u001b[0m\u001b[0;36m2\u001b[0m\u001b[0;34m:\u001b[0m\u001b[0;34m]\u001b[0m\u001b[0;34m)\u001b[0m\u001b[0;34m)\u001b[0m\u001b[0;34m\u001b[0m\u001b[0m\n\u001b[0m",
      "\u001b[0;32m~/analytics_vidya_competitions/env/lib/python3.5/site-packages/pandas/core/series.py\u001b[0m in \u001b[0;36mapply\u001b[0;34m(self, func, convert_dtype, args, **kwds)\u001b[0m\n\u001b[1;32m   2549\u001b[0m             \u001b[0;32melse\u001b[0m\u001b[0;34m:\u001b[0m\u001b[0;34m\u001b[0m\u001b[0m\n\u001b[1;32m   2550\u001b[0m                 \u001b[0mvalues\u001b[0m \u001b[0;34m=\u001b[0m \u001b[0mself\u001b[0m\u001b[0;34m.\u001b[0m\u001b[0masobject\u001b[0m\u001b[0;34m\u001b[0m\u001b[0m\n\u001b[0;32m-> 2551\u001b[0;31m                 \u001b[0mmapped\u001b[0m \u001b[0;34m=\u001b[0m \u001b[0mlib\u001b[0m\u001b[0;34m.\u001b[0m\u001b[0mmap_infer\u001b[0m\u001b[0;34m(\u001b[0m\u001b[0mvalues\u001b[0m\u001b[0;34m,\u001b[0m \u001b[0mf\u001b[0m\u001b[0;34m,\u001b[0m \u001b[0mconvert\u001b[0m\u001b[0;34m=\u001b[0m\u001b[0mconvert_dtype\u001b[0m\u001b[0;34m)\u001b[0m\u001b[0;34m\u001b[0m\u001b[0m\n\u001b[0m\u001b[1;32m   2552\u001b[0m \u001b[0;34m\u001b[0m\u001b[0m\n\u001b[1;32m   2553\u001b[0m         \u001b[0;32mif\u001b[0m \u001b[0mlen\u001b[0m\u001b[0;34m(\u001b[0m\u001b[0mmapped\u001b[0m\u001b[0;34m)\u001b[0m \u001b[0;32mand\u001b[0m \u001b[0misinstance\u001b[0m\u001b[0;34m(\u001b[0m\u001b[0mmapped\u001b[0m\u001b[0;34m[\u001b[0m\u001b[0;36m0\u001b[0m\u001b[0;34m]\u001b[0m\u001b[0;34m,\u001b[0m \u001b[0mSeries\u001b[0m\u001b[0;34m)\u001b[0m\u001b[0;34m:\u001b[0m\u001b[0;34m\u001b[0m\u001b[0m\n",
      "\u001b[0;32mpandas/_libs/src/inference.pyx\u001b[0m in \u001b[0;36mpandas._libs.lib.map_infer\u001b[0;34m()\u001b[0m\n",
      "\u001b[0;32m<ipython-input-49-5dfcd5697a0d>\u001b[0m in \u001b[0;36m<lambda>\u001b[0;34m(x)\u001b[0m\n\u001b[0;32m----> 1\u001b[0;31m \u001b[0mtrain_data\u001b[0m\u001b[0;34m[\u001b[0m\u001b[0;34m'DOB'\u001b[0m\u001b[0;34m]\u001b[0m \u001b[0;34m=\u001b[0m \u001b[0mtrain_data\u001b[0m\u001b[0;34m[\u001b[0m\u001b[0;34m'DOB'\u001b[0m\u001b[0;34m]\u001b[0m\u001b[0;34m.\u001b[0m\u001b[0mapply\u001b[0m\u001b[0;34m(\u001b[0m\u001b[0;32mlambda\u001b[0m \u001b[0mx\u001b[0m\u001b[0;34m:\u001b[0m \u001b[0mint\u001b[0m\u001b[0;34m(\u001b[0m\u001b[0mstr\u001b[0m\u001b[0;34m(\u001b[0m\u001b[0mx\u001b[0m\u001b[0;34m)\u001b[0m\u001b[0;34m[\u001b[0m\u001b[0;34m-\u001b[0m\u001b[0;36m2\u001b[0m\u001b[0;34m:\u001b[0m\u001b[0;34m]\u001b[0m\u001b[0;34m)\u001b[0m\u001b[0;34m)\u001b[0m\u001b[0;34m\u001b[0m\u001b[0m\n\u001b[0m",
      "\u001b[0;31mValueError\u001b[0m: invalid literal for int() with base 10: 'an'"
     ]
    }
   ],
   "source": [
    "train_data['DOB'] = train_data['DOB'].apply(lambda x: int(str(x)[-2:]))"
   ]
  },
  {
   "cell_type": "code",
   "execution_count": 13,
   "metadata": {},
   "outputs": [
    {
     "data": {
      "text/plain": [
       "16    30037\n",
       "Name: Lead_Creation_Date, dtype: int64"
      ]
     },
     "execution_count": 13,
     "metadata": {},
     "output_type": "execute_result"
    }
   ],
   "source": [
    "#test_data['Lead_Creation_Date'].value_counts()"
   ]
  },
  {
   "cell_type": "code",
   "execution_count": 132,
   "metadata": {},
   "outputs": [
    {
     "data": {
      "text/html": [
       "<div>\n",
       "<style scoped>\n",
       "    .dataframe tbody tr th:only-of-type {\n",
       "        vertical-align: middle;\n",
       "    }\n",
       "\n",
       "    .dataframe tbody tr th {\n",
       "        vertical-align: top;\n",
       "    }\n",
       "\n",
       "    .dataframe thead th {\n",
       "        text-align: right;\n",
       "    }\n",
       "</style>\n",
       "<table border=\"1\" class=\"dataframe\">\n",
       "  <thead>\n",
       "    <tr style=\"text-align: right;\">\n",
       "      <th></th>\n",
       "      <th>ID</th>\n",
       "      <th>Gender</th>\n",
       "      <th>DOB</th>\n",
       "      <th>Lead_Creation_Date</th>\n",
       "      <th>City_Code</th>\n",
       "      <th>City_Category</th>\n",
       "      <th>Employer_Code</th>\n",
       "      <th>Employer_Category1</th>\n",
       "      <th>Employer_Category2</th>\n",
       "      <th>Monthly_Income</th>\n",
       "      <th>...</th>\n",
       "      <th>Contacted</th>\n",
       "      <th>Source</th>\n",
       "      <th>Source_Category</th>\n",
       "      <th>Existing_EMI</th>\n",
       "      <th>Loan_Amount</th>\n",
       "      <th>Loan_Period</th>\n",
       "      <th>Interest_Rate</th>\n",
       "      <th>EMI</th>\n",
       "      <th>Var1</th>\n",
       "      <th>Approved</th>\n",
       "    </tr>\n",
       "  </thead>\n",
       "  <tbody>\n",
       "    <tr>\n",
       "      <th>0</th>\n",
       "      <td>APPC90493171225</td>\n",
       "      <td>Female</td>\n",
       "      <td>79</td>\n",
       "      <td>715</td>\n",
       "      <td>C10001</td>\n",
       "      <td>A</td>\n",
       "      <td>COM0044082</td>\n",
       "      <td>A</td>\n",
       "      <td>4.0</td>\n",
       "      <td>2000.0</td>\n",
       "      <td>...</td>\n",
       "      <td>N</td>\n",
       "      <td>S122</td>\n",
       "      <td>G</td>\n",
       "      <td>0.0</td>\n",
       "      <td>NaN</td>\n",
       "      <td>NaN</td>\n",
       "      <td>NaN</td>\n",
       "      <td>NaN</td>\n",
       "      <td>0</td>\n",
       "      <td>0</td>\n",
       "    </tr>\n",
       "    <tr>\n",
       "      <th>1</th>\n",
       "      <td>APPD40611263344</td>\n",
       "      <td>Male</td>\n",
       "      <td>86</td>\n",
       "      <td>704</td>\n",
       "      <td>C10003</td>\n",
       "      <td>A</td>\n",
       "      <td>COM0000002</td>\n",
       "      <td>C</td>\n",
       "      <td>1.0</td>\n",
       "      <td>3500.0</td>\n",
       "      <td>...</td>\n",
       "      <td>Y</td>\n",
       "      <td>S122</td>\n",
       "      <td>G</td>\n",
       "      <td>0.0</td>\n",
       "      <td>20000.0</td>\n",
       "      <td>2.0</td>\n",
       "      <td>13.25</td>\n",
       "      <td>953.0</td>\n",
       "      <td>10</td>\n",
       "      <td>0</td>\n",
       "    </tr>\n",
       "    <tr>\n",
       "      <th>2</th>\n",
       "      <td>APPE70289249423</td>\n",
       "      <td>Male</td>\n",
       "      <td>82</td>\n",
       "      <td>719</td>\n",
       "      <td>C10125</td>\n",
       "      <td>C</td>\n",
       "      <td>COM0005267</td>\n",
       "      <td>C</td>\n",
       "      <td>4.0</td>\n",
       "      <td>2250.0</td>\n",
       "      <td>...</td>\n",
       "      <td>Y</td>\n",
       "      <td>S143</td>\n",
       "      <td>B</td>\n",
       "      <td>0.0</td>\n",
       "      <td>45000.0</td>\n",
       "      <td>4.0</td>\n",
       "      <td>NaN</td>\n",
       "      <td>NaN</td>\n",
       "      <td>0</td>\n",
       "      <td>0</td>\n",
       "    </tr>\n",
       "    <tr>\n",
       "      <th>3</th>\n",
       "      <td>APPF80273865537</td>\n",
       "      <td>Male</td>\n",
       "      <td>89</td>\n",
       "      <td>709</td>\n",
       "      <td>C10477</td>\n",
       "      <td>C</td>\n",
       "      <td>COM0004143</td>\n",
       "      <td>A</td>\n",
       "      <td>4.0</td>\n",
       "      <td>3500.0</td>\n",
       "      <td>...</td>\n",
       "      <td>Y</td>\n",
       "      <td>S143</td>\n",
       "      <td>B</td>\n",
       "      <td>0.0</td>\n",
       "      <td>92000.0</td>\n",
       "      <td>5.0</td>\n",
       "      <td>NaN</td>\n",
       "      <td>NaN</td>\n",
       "      <td>7</td>\n",
       "      <td>0</td>\n",
       "    </tr>\n",
       "    <tr>\n",
       "      <th>4</th>\n",
       "      <td>APPG60994436641</td>\n",
       "      <td>Male</td>\n",
       "      <td>85</td>\n",
       "      <td>720</td>\n",
       "      <td>C10002</td>\n",
       "      <td>A</td>\n",
       "      <td>COM0001781</td>\n",
       "      <td>A</td>\n",
       "      <td>4.0</td>\n",
       "      <td>10000.0</td>\n",
       "      <td>...</td>\n",
       "      <td>Y</td>\n",
       "      <td>S134</td>\n",
       "      <td>B</td>\n",
       "      <td>2500.0</td>\n",
       "      <td>50000.0</td>\n",
       "      <td>2.0</td>\n",
       "      <td>NaN</td>\n",
       "      <td>NaN</td>\n",
       "      <td>10</td>\n",
       "      <td>0</td>\n",
       "    </tr>\n",
       "  </tbody>\n",
       "</table>\n",
       "<p>5 rows × 22 columns</p>\n",
       "</div>"
      ],
      "text/plain": [
       "                ID  Gender  DOB  Lead_Creation_Date City_Code City_Category  \\\n",
       "0  APPC90493171225  Female   79                 715    C10001             A   \n",
       "1  APPD40611263344    Male   86                 704    C10003             A   \n",
       "2  APPE70289249423    Male   82                 719    C10125             C   \n",
       "3  APPF80273865537    Male   89                 709    C10477             C   \n",
       "4  APPG60994436641    Male   85                 720    C10002             A   \n",
       "\n",
       "  Employer_Code Employer_Category1  Employer_Category2  Monthly_Income  \\\n",
       "0    COM0044082                  A                 4.0          2000.0   \n",
       "1    COM0000002                  C                 1.0          3500.0   \n",
       "2    COM0005267                  C                 4.0          2250.0   \n",
       "3    COM0004143                  A                 4.0          3500.0   \n",
       "4    COM0001781                  A                 4.0         10000.0   \n",
       "\n",
       "     ...     Contacted Source Source_Category Existing_EMI Loan_Amount  \\\n",
       "0    ...             N   S122               G          0.0         NaN   \n",
       "1    ...             Y   S122               G          0.0     20000.0   \n",
       "2    ...             Y   S143               B          0.0     45000.0   \n",
       "3    ...             Y   S143               B          0.0     92000.0   \n",
       "4    ...             Y   S134               B       2500.0     50000.0   \n",
       "\n",
       "   Loan_Period  Interest_Rate    EMI  Var1  Approved  \n",
       "0          NaN            NaN    NaN     0         0  \n",
       "1          2.0          13.25  953.0    10         0  \n",
       "2          4.0            NaN    NaN     0         0  \n",
       "3          5.0            NaN    NaN     7         0  \n",
       "4          2.0            NaN    NaN    10         0  \n",
       "\n",
       "[5 rows x 22 columns]"
      ]
     },
     "execution_count": 132,
     "metadata": {},
     "output_type": "execute_result"
    }
   ],
   "source": [
    "train_data.head()"
   ]
  },
  {
   "cell_type": "code",
   "execution_count": 221,
   "metadata": {
    "scrolled": true
   },
   "outputs": [
    {
     "data": {
      "text/plain": [
       "47437"
      ]
     },
     "execution_count": 221,
     "metadata": {},
     "output_type": "execute_result"
    }
   ],
   "source": [
    "sum(pd.isna(train_data[\"EMI\"])==True)\n",
    "#train_data['Primary_Bank_Type'].value_counts()"
   ]
  },
  {
   "cell_type": "code",
   "execution_count": null,
   "metadata": {
    "scrolled": true
   },
   "outputs": [],
   "source": [
    "corr_matrix = train_data.corr()"
   ]
  },
  {
   "cell_type": "code",
   "execution_count": null,
   "metadata": {
    "scrolled": true
   },
   "outputs": [],
   "source": [
    "corr_matrix[\"Approved\"].sort_values()"
   ]
  },
  {
   "cell_type": "code",
   "execution_count": 82,
   "metadata": {},
   "outputs": [],
   "source": [
    "train_data['Lead_Creation_Date'] = train_data['Lead_Creation_Date'].apply(lambda x: int(str(x)[3:5]))*100+train_data['Lead_Creation_Date'].apply(lambda x: int(str(x)[:2]))"
   ]
  },
  {
   "cell_type": "code",
   "execution_count": 120,
   "metadata": {},
   "outputs": [],
   "source": [
    "mode = train_data[\"Customer_Existing_Primary_Bank_Code\"].mode()\n",
    "train_data[\"Customer_Existing_Primary_Bank_Code\"].fillna(mode[0],inplace = True)"
   ]
  },
  {
   "cell_type": "code",
   "execution_count": 74,
   "metadata": {},
   "outputs": [
    {
     "data": {
      "text/plain": [
       "'11/01/82'"
      ]
     },
     "execution_count": 74,
     "metadata": {},
     "output_type": "execute_result"
    }
   ],
   "source": [
    "mode[0]"
   ]
  },
  {
   "cell_type": "code",
   "execution_count": 75,
   "metadata": {},
   "outputs": [],
   "source": [
    "train_data[\"DOB\"].where(pd.isnull(train_data[\"DOB\"])==False,mode[0],inplace=True)"
   ]
  },
  {
   "cell_type": "code",
   "execution_count": 92,
   "metadata": {},
   "outputs": [],
   "source": [
    "from pandas.tools.plotting import scatter_matrix"
   ]
  },
  {
   "cell_type": "code",
   "execution_count": 218,
   "metadata": {},
   "outputs": [
    {
     "name": "stderr",
     "output_type": "stream",
     "text": [
      "/home/shruti/analytics_vidya_competitions/env/lib/python3.5/site-packages/ipykernel_launcher.py:1: FutureWarning: 'pandas.tools.plotting.scatter_matrix' is deprecated, import 'pandas.plotting.scatter_matrix' instead.\n",
      "  \"\"\"Entry point for launching an IPython kernel.\n"
     ]
    },
    {
     "data": {
      "image/png": "[encoded data removed]",
      "text/plain": [
       "<matplotlib.figure.Figure at 0x7fb098f600f0>"
      ]
     },
     "metadata": {},
     "output_type": "display_data"
    }
   ],
   "source": [
    "scatter_matrix(train_data[[\"Loan_Amount\"]])\n",
    "import matplotlib.pyplot as plt"
   ]
  },
  {
   "cell_type": "code",
   "execution_count": 121,
   "metadata": {},
   "outputs": [],
   "source": [
    "train_data['Customer_Existing_Primary_Bank_Code'] = train_data['Customer_Existing_Primary_Bank_Code'].apply(lambda x: int(str(x)[-3:]))"
   ]
  },
  {
   "cell_type": "code",
   "execution_count": 157,
   "metadata": {},
   "outputs": [
    {
     "data": {
      "text/plain": [
       "P    49010\n",
       "G    20703\n",
       "Name: Primary_Bank_Type, dtype: int64"
      ]
     },
     "execution_count": 157,
     "metadata": {},
     "output_type": "execute_result"
    }
   ],
   "source": [
    "train_data['Primary_Bank_Type'].value_counts()"
   ]
  },
  {
   "cell_type": "code",
   "execution_count": 128,
   "metadata": {},
   "outputs": [],
   "source": [
    "train_data[\"Source_Category\"].where(train_data[\"Source_Category\"]!='D','E',inplace=True)"
   ]
  },
  {
   "cell_type": "code",
   "execution_count": 129,
   "metadata": {},
   "outputs": [],
   "source": [
    "train_data[\"Source_Category\"].where(train_data[\"Source_Category\"]!='F','E',inplace=True)\n",
    "train_data[\"Source_Category\"].where(train_data[\"Source_Category\"]!='A','E',inplace=True)"
   ]
  },
  {
   "cell_type": "code",
   "execution_count": 133,
   "metadata": {},
   "outputs": [],
   "source": [
    "from sklearn.base import TransformerMixin,BaseEstimator\n",
    "class DataFrameSelector(BaseEstimator, TransformerMixin):\n",
    "    def __init__(self,attribute_names):\n",
    "        self.attribute_names = attribute_names\n",
    "    def fit(self, X, y=None):\n",
    "        return self\n",
    "    def transform(self, X):\n",
    "        return X[self.attribute_names].values"
   ]
  },
  {
   "cell_type": "code",
   "execution_count": 134,
   "metadata": {},
   "outputs": [],
   "source": [
    "num_attribs = [\"DOB\",\"Lead_Creation_Date\",\"Employer_Category2\",\"Monthly_Income\",\"Existing_EMI\",\"Var1\",\"Customer_Existing_Primary_Bank_Code\"]"
   ]
  },
  {
   "cell_type": "code",
   "execution_count": 135,
   "metadata": {},
   "outputs": [],
   "source": [
    "cat_attribs = [\"Gender\",\"City_Category\",\"Employer_Category1\",\"Contacted\",\"Source_Category\",\"Primary_Bank_Type\"]"
   ]
  },
  {
   "cell_type": "code",
   "execution_count": 136,
   "metadata": {},
   "outputs": [],
   "source": [
    "from sklearn.preprocessing import LabelBinarizer\n",
    "class LabelBinarizer_new(TransformerMixin, BaseEstimator):\n",
    "    def fit(self, X, y = 0):\n",
    "        self.encoder = None\n",
    "        return self\n",
    "    def transform(self, X, y = 0):\n",
    "        if(self.encoder is None):\n",
    "            print(\"Initializing encoder\")\n",
    "            self.encoder = LabelBinarizer();\n",
    "            result = self.encoder.fit_transform(X)\n",
    "        else:\n",
    "            result = self.encoder.transform(X)\n",
    "        return result; "
   ]
  },
  {
   "cell_type": "code",
   "execution_count": 137,
   "metadata": {},
   "outputs": [],
   "source": [
    "from sklearn.pipeline import Pipeline"
   ]
  },
  {
   "cell_type": "code",
   "execution_count": 138,
   "metadata": {},
   "outputs": [],
   "source": [
    "num_pipeline = Pipeline([(\"selector\",DataFrameSelector(num_attribs))])"
   ]
  },
  {
   "cell_type": "code",
   "execution_count": 141,
   "metadata": {},
   "outputs": [],
   "source": [
    "cat_pipeline1 = Pipeline([(\"selector\",DataFrameSelector(\"Gender\")),(\"label_binarizer\",LabelBinarizer_new())])"
   ]
  },
  {
   "cell_type": "code",
   "execution_count": 143,
   "metadata": {},
   "outputs": [],
   "source": [
    "cat_pipeline2 = Pipeline([(\"selector\",DataFrameSelector(\"City_Category\")),(\"label_binarizer\",LabelBinarizer_new())])\n",
    "cat_pipeline3 = Pipeline([(\"selector\",DataFrameSelector(\"Employer_Category1\")),(\"label_binarizer\",LabelBinarizer_new())])\n",
    "cat_pipeline4 = Pipeline([(\"selector\",DataFrameSelector(\"Contacted\")),(\"label_binarizer\",LabelBinarizer_new())])\n",
    "cat_pipeline5 = Pipeline([(\"selector\",DataFrameSelector(\"Source_Category\")),(\"label_binarizer\",LabelBinarizer_new())])\n",
    "cat_pipeline6 = Pipeline([(\"selector\",DataFrameSelector(\"Primary_Bank_Type\")),(\"label_binarizer\",LabelBinarizer_new())])"
   ]
  },
  {
   "cell_type": "code",
   "execution_count": 144,
   "metadata": {},
   "outputs": [],
   "source": [
    "from sklearn.pipeline import FeatureUnion"
   ]
  },
  {
   "cell_type": "code",
   "execution_count": 145,
   "metadata": {},
   "outputs": [],
   "source": [
    "full_pipeline = FeatureUnion(transformer_list = [(\"num_pipeline\",num_pipeline),(\"cat_pipeline1\",cat_pipeline1),(\"cat_pipeline2\",cat_pipeline2),(\"cat_pipeline3\",cat_pipeline3),(\"cat_pipeline4\",cat_pipeline4),(\"cat_pipeline5\",cat_pipeline5),(\"cat_pipeline6\",cat_pipeline6)])"
   ]
  },
  {
   "cell_type": "code",
   "execution_count": 179,
   "metadata": {},
   "outputs": [
    {
     "name": "stdout",
     "output_type": "stream",
     "text": [
      "Initializing encoder\n",
      "Initializing encoder\n",
      "Initializing encoder\n",
      "Initializing encoder\n",
      "Initializing encoder\n",
      "Initializing encoder\n"
     ]
    }
   ],
   "source": [
    "X_train = full_pipeline.fit_transform(train_data)"
   ]
  },
  {
   "cell_type": "code",
   "execution_count": 180,
   "metadata": {},
   "outputs": [],
   "source": [
    "y_train = train_data[\"Approved\"].copy()"
   ]
  },
  {
   "cell_type": "code",
   "execution_count": 181,
   "metadata": {},
   "outputs": [
    {
     "data": {
      "text/plain": [
       "(69713, 20)"
      ]
     },
     "execution_count": 181,
     "metadata": {},
     "output_type": "execute_result"
    }
   ],
   "source": [
    "X_train.shape"
   ]
  },
  {
   "cell_type": "code",
   "execution_count": 182,
   "metadata": {},
   "outputs": [
    {
     "data": {
      "text/plain": [
       "(69713,)"
      ]
     },
     "execution_count": 182,
     "metadata": {},
     "output_type": "execute_result"
    }
   ],
   "source": [
    "y_train.shape"
   ]
  },
  {
   "cell_type": "code",
   "execution_count": 183,
   "metadata": {},
   "outputs": [],
   "source": [
    "from sklearn.ensemble import RandomForestClassifier"
   ]
  },
  {
   "cell_type": "code",
   "execution_count": 213,
   "metadata": {},
   "outputs": [],
   "source": [
    "forest_clf = RandomForestClassifier(n_estimators=1000)"
   ]
  },
  {
   "cell_type": "code",
   "execution_count": 214,
   "metadata": {},
   "outputs": [],
   "source": [
    "from sklearn.model_selection import cross_val_score"
   ]
  },
  {
   "cell_type": "code",
   "execution_count": 215,
   "metadata": {},
   "outputs": [
    {
     "data": {
      "text/plain": [
       "array([0.79347907, 0.79631056, 0.79814791])"
      ]
     },
     "execution_count": 215,
     "metadata": {},
     "output_type": "execute_result"
    }
   ],
   "source": [
    "cross_val_score(forest_clf,X_train,y_train,cv=3,scoring=\"roc_auc\")"
   ]
  },
  {
   "cell_type": "code",
   "execution_count": 187,
   "metadata": {},
   "outputs": [],
   "source": [
    "import numpy as np"
   ]
  },
  {
   "cell_type": "code",
   "execution_count": 177,
   "metadata": {},
   "outputs": [],
   "source": [
    "shuffled_indices = np.random.permutation(train_data.shape[0])"
   ]
  },
  {
   "cell_type": "code",
   "execution_count": 178,
   "metadata": {},
   "outputs": [],
   "source": [
    "train_data = train_data.iloc[shuffled_indices]"
   ]
  },
  {
   "cell_type": "code",
   "execution_count": 188,
   "metadata": {},
   "outputs": [],
   "source": [
    "from sklearn.ensemble import AdaBoostClassifier"
   ]
  },
  {
   "cell_type": "code",
   "execution_count": 192,
   "metadata": {},
   "outputs": [],
   "source": [
    "ada_clf = AdaBoostClassifier(DecisionTreeClassifier(),n_estimators=200,algorithm = \"SAMME.R\")"
   ]
  },
  {
   "cell_type": "code",
   "execution_count": 191,
   "metadata": {},
   "outputs": [],
   "source": [
    "from sklearn.tree import DecisionTreeClassifier"
   ]
  },
  {
   "cell_type": "code",
   "execution_count": 193,
   "metadata": {},
   "outputs": [
    {
     "data": {
      "text/plain": [
       "array([0.72118962, 0.68086238, 0.71165282])"
      ]
     },
     "execution_count": 193,
     "metadata": {},
     "output_type": "execute_result"
    }
   ],
   "source": [
    "cross_val_score(ada_clf,X_train,y_train,cv=3,scoring=\"roc_auc\")"
   ]
  },
  {
   "cell_type": "code",
   "execution_count": 207,
   "metadata": {},
   "outputs": [],
   "source": [
    "from sklearn.linear_model import LogisticRegression"
   ]
  },
  {
   "cell_type": "code",
   "execution_count": 208,
   "metadata": {},
   "outputs": [],
   "source": [
    "log_reg = LogisticRegression()"
   ]
  },
  {
   "cell_type": "code",
   "execution_count": 209,
   "metadata": {},
   "outputs": [
    {
     "data": {
      "text/plain": [
       "array([0.76355159, 0.75603591, 0.76816145])"
      ]
     },
     "execution_count": 209,
     "metadata": {},
     "output_type": "execute_result"
    }
   ],
   "source": [
    "cross_val_score(log_reg,X_train,y_train,cv=3,scoring=\"roc_auc\")"
   ]
  },
  {
   "cell_type": "code",
   "execution_count": null,
   "metadata": {},
   "outputs": [],
   "source": []
  }
 ],
 "metadata": {
  "kernelspec": {
   "display_name": "Python 3",
   "language": "python",
   "name": "python3"
  },
  "language_info": {
   "codemirror_mode": {
    "name": "ipython",
    "version": 3
   },
   "file_extension": ".py",
   "mimetype": "text/x-python",
   "name": "python",
   "nbconvert_exporter": "python",
   "pygments_lexer": "ipython3",
   "version": "3.5.2"
  }
 },
 "nbformat": 4,
 "nbformat_minor": 2
}
