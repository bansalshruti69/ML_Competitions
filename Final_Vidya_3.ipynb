{
 "cells": [
  {
   "cell_type": "code",
   "execution_count": 77,
   "metadata": {},
   "outputs": [],
   "source": [
    "import pandas as pd\n",
    "train_data = pd.read_csv('train_vidya3.csv')\n",
    "test_data = pd.read_csv('test_vidya3.csv')\n",
    "import numpy as np\n",
    "shuffled_indices = np.random.permutation(train_data.shape[0])\n",
    "train_data = train_data.iloc[shuffled_indices]"
   ]
  },
  {
   "cell_type": "code",
   "execution_count": 78,
   "metadata": {},
   "outputs": [
    {
     "data": {
      "text/plain": [
       "4037"
      ]
     },
     "execution_count": 78,
     "metadata": {},
     "output_type": "execute_result"
    }
   ],
   "source": [
    "sum(pd.isna(test_data[\"Customer_Existing_Primary_Bank_Code\"])==True)"
   ]
  },
  {
   "cell_type": "code",
   "execution_count": 79,
   "metadata": {},
   "outputs": [],
   "source": [
    "mode1 = train_data[\"City_Category\"].mode()\n",
    "train_data[\"City_Category\"].fillna(mode1[0],inplace = True)"
   ]
  },
  {
   "cell_type": "code",
   "execution_count": 80,
   "metadata": {},
   "outputs": [],
   "source": [
    "mode2 = train_data[\"Employer_Category1\"].mode()\n",
    "train_data[\"Employer_Category1\"].fillna(mode2[0],inplace = True)"
   ]
  },
  {
   "cell_type": "code",
   "execution_count": 81,
   "metadata": {},
   "outputs": [],
   "source": [
    "mode3 = train_data[\"Primary_Bank_Type\"].mode()\n",
    "train_data[\"Primary_Bank_Type\"].fillna(mode3[0],inplace = True)"
   ]
  },
  {
   "cell_type": "code",
   "execution_count": 82,
   "metadata": {},
   "outputs": [],
   "source": [
    "mode4 = train_data[\"DOB\"].mode()\n",
    "train_data[\"DOB\"].where(pd.isnull(train_data[\"DOB\"])==False,mode4[0],inplace=True)"
   ]
  },
  {
   "cell_type": "code",
   "execution_count": 83,
   "metadata": {},
   "outputs": [],
   "source": [
    "train_data['DOB'] = train_data['DOB'].apply(lambda x: int(str(x)[-2:]))"
   ]
  },
  {
   "cell_type": "code",
   "execution_count": 84,
   "metadata": {},
   "outputs": [],
   "source": [
    "train_data['Lead_Creation_Date'] = train_data['Lead_Creation_Date'].apply(lambda x: int(str(x)[3:5]))*100+train_data['Lead_Creation_Date'].apply(lambda x: int(str(x)[:2]))"
   ]
  },
  {
   "cell_type": "code",
   "execution_count": 85,
   "metadata": {},
   "outputs": [],
   "source": [
    "mode5 = train_data[\"Employer_Category2\"].mode()\n",
    "train_data[\"Employer_Category2\"].fillna(mode5[0],inplace = True)"
   ]
  },
  {
   "cell_type": "code",
   "execution_count": 86,
   "metadata": {},
   "outputs": [],
   "source": [
    "train_data[\"Existing_EMI\"].fillna(545436.500000,inplace = True)"
   ]
  },
  {
   "cell_type": "code",
   "execution_count": 87,
   "metadata": {},
   "outputs": [],
   "source": [
    "mode6 = train_data[\"Customer_Existing_Primary_Bank_Code\"].mode()\n",
    "train_data[\"Customer_Existing_Primary_Bank_Code\"].fillna(mode6[0],inplace = True)"
   ]
  },
  {
   "cell_type": "code",
   "execution_count": 88,
   "metadata": {},
   "outputs": [],
   "source": [
    "train_data['Customer_Existing_Primary_Bank_Code'] = train_data['Customer_Existing_Primary_Bank_Code'].apply(lambda x: int(str(x)[-3:]))"
   ]
  },
  {
   "cell_type": "code",
   "execution_count": 89,
   "metadata": {},
   "outputs": [],
   "source": [
    "test_data[\"City_Category\"].fillna(mode1[0],inplace = True)"
   ]
  },
  {
   "cell_type": "code",
   "execution_count": 90,
   "metadata": {},
   "outputs": [],
   "source": [
    "test_data[\"Employer_Category1\"].fillna(mode2[0],inplace = True)"
   ]
  },
  {
   "cell_type": "code",
   "execution_count": 91,
   "metadata": {},
   "outputs": [],
   "source": [
    "test_data[\"Primary_Bank_Type\"].fillna(mode3[0],inplace = True)"
   ]
  },
  {
   "cell_type": "code",
   "execution_count": 92,
   "metadata": {},
   "outputs": [],
   "source": [
    "test_data[\"DOB\"].where(pd.isnull(test_data[\"DOB\"])==False,mode4[0],inplace=True)"
   ]
  },
  {
   "cell_type": "code",
   "execution_count": 93,
   "metadata": {},
   "outputs": [],
   "source": [
    "test_data['DOB'] = test_data['DOB'].apply(lambda x: int(str(x)[-2:]))"
   ]
  },
  {
   "cell_type": "code",
   "execution_count": 94,
   "metadata": {},
   "outputs": [],
   "source": [
    "test_data['Lead_Creation_Date'] = test_data['Lead_Creation_Date'].apply(lambda x: int(str(x)[3:5]))*100+test_data['Lead_Creation_Date'].apply(lambda x: int(str(x)[:2]))"
   ]
  },
  {
   "cell_type": "code",
   "execution_count": 95,
   "metadata": {},
   "outputs": [],
   "source": [
    "test_data[\"Employer_Category2\"].fillna(mode5[0],inplace = True)"
   ]
  },
  {
   "cell_type": "code",
   "execution_count": 96,
   "metadata": {},
   "outputs": [],
   "source": [
    "test_data[\"Existing_EMI\"].fillna(545436.500000,inplace = True)"
   ]
  },
  {
   "cell_type": "code",
   "execution_count": 105,
   "metadata": {},
   "outputs": [],
   "source": [
    "test_data[\"Customer_Existing_Primary_Bank_Code\"].fillna(mode6[0],inplace = True)\n",
    "test_data['Customer_Existing_Primary_Bank_Code'] = test_data['Customer_Existing_Primary_Bank_Code'].apply(lambda x: int(str(x)[-3:]))"
   ]
  },
  {
   "cell_type": "code",
   "execution_count": 220,
   "metadata": {},
   "outputs": [
    {
     "name": "stdout",
     "output_type": "stream",
     "text": [
      "Initializing encoder\n",
      "Initializing encoder\n",
      "Initializing encoder\n",
      "Initializing encoder\n",
      "Initializing encoder\n",
      "Initializing encoder\n"
     ]
    }
   ],
   "source": [
    "y_train = train_data[\"Approved\"].copy()\n",
    "from sklearn.base import TransformerMixin,BaseEstimator\n",
    "class DataFrameSelector(BaseEstimator, TransformerMixin):\n",
    "    def __init__(self,attribute_names):\n",
    "        self.attribute_names = attribute_names\n",
    "    def fit(self, X, y=None):\n",
    "        return self\n",
    "    def transform(self, X):\n",
    "        return X[self.attribute_names].values\n",
    "num_attribs = [\"DOB\",\"Lead_Creation_Date\",\"Employer_Category2\",\"Monthly_Income\",\"Existing_EMI\",\"Var1\",\"Customer_Existing_Primary_Bank_Code\",\"Loan_Amount\",\"Loan_Period\"]\n",
    "from sklearn.preprocessing import LabelBinarizer\n",
    "class LabelBinarizer_new(TransformerMixin, BaseEstimator):\n",
    "    def fit(self, X, y = 0):\n",
    "        self.encoder = None\n",
    "        return self\n",
    "    def transform(self, X, y = 0):\n",
    "        if(self.encoder is None):\n",
    "            print(\"Initializing encoder\")\n",
    "            self.encoder = LabelBinarizer();\n",
    "            result = self.encoder.fit_transform(X)\n",
    "        else:\n",
    "            result = self.encoder.transform(X)\n",
    "        return result; \n",
    "from sklearn.pipeline import Pipeline\n",
    "num_pipeline = Pipeline([(\"selector\",DataFrameSelector(num_attribs))])\n",
    "cat_pipeline1 = Pipeline([(\"selector\",DataFrameSelector(\"Gender\")),(\"label_binarizer\",LabelBinarizer_new())])\n",
    "cat_pipeline2 = Pipeline([(\"selector\",DataFrameSelector(\"City_Category\")),(\"label_binarizer\",LabelBinarizer_new())])\n",
    "cat_pipeline3 = Pipeline([(\"selector\",DataFrameSelector(\"Employer_Category1\")),(\"label_binarizer\",LabelBinarizer_new())])\n",
    "cat_pipeline4 = Pipeline([(\"selector\",DataFrameSelector(\"Contacted\")),(\"label_binarizer\",LabelBinarizer_new())])\n",
    "cat_pipeline5 = Pipeline([(\"selector\",DataFrameSelector(\"Source_Category\")),(\"label_binarizer\",LabelBinarizer_new())])\n",
    "cat_pipeline6 = Pipeline([(\"selector\",DataFrameSelector(\"Primary_Bank_Type\")),(\"label_binarizer\",LabelBinarizer_new())])\n",
    "from sklearn.pipeline import FeatureUnion\n",
    "full_pipeline = FeatureUnion(transformer_list = [(\"num_pipeline\",num_pipeline),(\"cat_pipeline1\",cat_pipeline1),(\"cat_pipeline2\",cat_pipeline2),(\"cat_pipeline3\",cat_pipeline3),(\"cat_pipeline4\",cat_pipeline4),(\"cat_pipeline5\",cat_pipeline5),(\"cat_pipeline6\",cat_pipeline6)])\n",
    "X_train = full_pipeline.fit_transform(train_data)"
   ]
  },
  {
   "cell_type": "code",
   "execution_count": 99,
   "metadata": {},
   "outputs": [],
   "source": [
    "from sklearn.ensemble import RandomForestClassifier"
   ]
  },
  {
   "cell_type": "code",
   "execution_count": 221,
   "metadata": {},
   "outputs": [],
   "source": [
    "forest_clf = RandomForestClassifier(n_estimators=1000)"
   ]
  },
  {
   "cell_type": "code",
   "execution_count": 222,
   "metadata": {},
   "outputs": [],
   "source": [
    "from sklearn.model_selection import cross_val_score"
   ]
  },
  {
   "cell_type": "code",
   "execution_count": 223,
   "metadata": {},
   "outputs": [
    {
     "data": {
      "text/plain": [
       "array([0.80533472, 0.79810175, 0.80880555])"
      ]
     },
     "execution_count": 223,
     "metadata": {},
     "output_type": "execute_result"
    }
   ],
   "source": [
    "cross_val_score(forest_clf,X_train,y_train,cv=3,scoring=\"roc_auc\")"
   ]
  },
  {
   "cell_type": "code",
   "execution_count": 224,
   "metadata": {},
   "outputs": [],
   "source": [
    "X_test = full_pipeline.transform(test_data)"
   ]
  },
  {
   "cell_type": "code",
   "execution_count": 225,
   "metadata": {},
   "outputs": [
    {
     "data": {
      "text/plain": [
       "RandomForestClassifier(bootstrap=True, class_weight=None, criterion='gini',\n",
       "            max_depth=None, max_features='auto', max_leaf_nodes=None,\n",
       "            min_impurity_decrease=0.0, min_impurity_split=None,\n",
       "            min_samples_leaf=1, min_samples_split=2,\n",
       "            min_weight_fraction_leaf=0.0, n_estimators=1000, n_jobs=1,\n",
       "            oob_score=False, random_state=None, verbose=0,\n",
       "            warm_start=False)"
      ]
     },
     "execution_count": 225,
     "metadata": {},
     "output_type": "execute_result"
    }
   ],
   "source": [
    "forest_clf.fit(X_train,y_train)"
   ]
  },
  {
   "cell_type": "code",
   "execution_count": 288,
   "metadata": {},
   "outputs": [],
   "source": [
    "#y_pred = forest_clf.predict(X_test)\n",
    "ids = test_data['ID'].values\n",
    "y_pred = pd.DataFrame(np.c_[ids,y_pred],columns=[\"ID\",\"Approved\"])\n",
    "y_pred.to_csv('submission_vidya3.csv',index=False)"
   ]
  },
  {
   "cell_type": "code",
   "execution_count": 111,
   "metadata": {},
   "outputs": [],
   "source": [
    "from sklearn.linear_model import LogisticRegression"
   ]
  },
  {
   "cell_type": "code",
   "execution_count": 235,
   "metadata": {},
   "outputs": [],
   "source": [
    "log_reg = LogisticRegression()"
   ]
  },
  {
   "cell_type": "code",
   "execution_count": 236,
   "metadata": {},
   "outputs": [
    {
     "data": {
      "text/plain": [
       "LogisticRegression(C=1.0, class_weight=None, dual=False, fit_intercept=True,\n",
       "          intercept_scaling=1, max_iter=100, multi_class='ovr', n_jobs=1,\n",
       "          penalty='l2', random_state=None, solver='liblinear', tol=0.0001,\n",
       "          verbose=0, warm_start=False)"
      ]
     },
     "execution_count": 236,
     "metadata": {},
     "output_type": "execute_result"
    }
   ],
   "source": [
    "log_reg.fit(X_train,y_train)"
   ]
  },
  {
   "cell_type": "code",
   "execution_count": 250,
   "metadata": {},
   "outputs": [
    {
     "data": {
      "text/plain": [
       "array([[0.91280231, 0.08719769],\n",
       "       [0.99326452, 0.00673548],\n",
       "       [0.9750027 , 0.0249973 ],\n",
       "       ...,\n",
       "       [0.98623029, 0.01376971],\n",
       "       [0.98616179, 0.01383821],\n",
       "       [0.98167464, 0.01832536]])"
      ]
     },
     "execution_count": 250,
     "metadata": {},
     "output_type": "execute_result"
    }
   ],
   "source": [
    "y_proba = log_reg.predict_proba(X_test)\n",
    "y_proba"
   ]
  },
  {
   "cell_type": "code",
   "execution_count": 275,
   "metadata": {},
   "outputs": [],
   "source": [
    "y_pred = (y_proba[:,1]>=0.015).astype(int)"
   ]
  },
  {
   "cell_type": "code",
   "execution_count": 276,
   "metadata": {},
   "outputs": [
    {
     "data": {
      "text/plain": [
       "19393"
      ]
     },
     "execution_count": 276,
     "metadata": {},
     "output_type": "execute_result"
    }
   ],
   "source": [
    "sum(y_pred)"
   ]
  },
  {
   "cell_type": "code",
   "execution_count": 227,
   "metadata": {},
   "outputs": [],
   "source": [
    "y_proba = forest_clf.predict_proba(X_test)"
   ]
  },
  {
   "cell_type": "code",
   "execution_count": 213,
   "metadata": {},
   "outputs": [],
   "source": [
    "mean1 = train_data[\"Loan_Amount\"].mean()\n",
    "#mean1\n",
    "train_data[\"Loan_Amount\"].fillna(mean1,inplace = True)"
   ]
  },
  {
   "cell_type": "code",
   "execution_count": 217,
   "metadata": {},
   "outputs": [],
   "source": [
    "mode7 = train_data[\"Loan_Period\"].mode()\n",
    "#mean1\n",
    "train_data[\"Loan_Period\"].fillna(mode7[0],inplace = True)"
   ]
  },
  {
   "cell_type": "code",
   "execution_count": 219,
   "metadata": {},
   "outputs": [],
   "source": [
    "test_data[\"Loan_Amount\"].fillna(mean1,inplace = True)\n",
    "test_data[\"Loan_Period\"].fillna(mode7[0],inplace = True)"
   ]
  },
  {
   "cell_type": "code",
   "execution_count": 284,
   "metadata": {},
   "outputs": [],
   "source": [
    "from sklearn.svm import SVC"
   ]
  },
  {
   "cell_type": "code",
   "execution_count": 289,
   "metadata": {},
   "outputs": [],
   "source": [
    "svc_clf = SVC(probability = True)"
   ]
  },
  {
   "cell_type": "code",
   "execution_count": null,
   "metadata": {},
   "outputs": [],
   "source": [
    "svc_clf.fit(X_train,y_train)"
   ]
  },
  {
   "cell_type": "code",
   "execution_count": null,
   "metadata": {},
   "outputs": [],
   "source": [
    "y_pred = svc_clf.predict(X_test)"
   ]
  },
  {
   "cell_type": "code",
   "execution_count": null,
   "metadata": {},
   "outputs": [],
   "source": []
  }
 ],
 "metadata": {
  "kernelspec": {
   "display_name": "Python 3",
   "language": "python",
   "name": "python3"
  },
  "language_info": {
   "codemirror_mode": {
    "name": "ipython",
    "version": 3
   },
   "file_extension": ".py",
   "mimetype": "text/x-python",
   "name": "python",
   "nbconvert_exporter": "python",
   "pygments_lexer": "ipython3",
   "version": "3.5.2"
  }
 },
 "nbformat": 4,
 "nbformat_minor": 2
}
