{
 "cells": [
  {
   "cell_type": "code",
   "execution_count": 368,
   "metadata": {},
   "outputs": [],
   "source": [
    "import pandas as pd"
   ]
  },
  {
   "cell_type": "code",
   "execution_count": 369,
   "metadata": {},
   "outputs": [],
   "source": [
    "training_data = pd.read_csv('train.csv')"
   ]
  },
  {
   "cell_type": "code",
   "execution_count": 370,
   "metadata": {},
   "outputs": [],
   "source": [
    "test_data = pd.read_csv('test.csv')"
   ]
  },
  {
   "cell_type": "code",
   "execution_count": 371,
   "metadata": {},
   "outputs": [],
   "source": [
    "X_train = training_data.copy()\n",
    "#X_prepared = full_pipeline.fit_transform(X_train)\n",
    "#X_train_prepared.shape\n",
    "#X_test_prepared = full_pipeline.transform(test_data)\n",
    "#X_test_prepared.shape"
   ]
  },
  {
   "cell_type": "code",
   "execution_count": 372,
   "metadata": {},
   "outputs": [],
   "source": [
    "y_train = training_data[\"electricity_consumption\"].copy()"
   ]
  },
  {
   "cell_type": "code",
   "execution_count": 373,
   "metadata": {},
   "outputs": [],
   "source": [
    "from sklearn.preprocessing import LabelBinarizer"
   ]
  },
  {
   "cell_type": "code",
   "execution_count": 374,
   "metadata": {},
   "outputs": [],
   "source": [
    "class LabelBinarizer_new(TransformerMixin, BaseEstimator):\n",
    "    def fit(self, X, y = 0):\n",
    "        self.encoder = None\n",
    "        return self\n",
    "    def transform(self, X, y = 0):\n",
    "        if(self.encoder is None):\n",
    "            print(\"Initializing encoder\")\n",
    "            self.encoder = LabelBinarizer();\n",
    "            result = self.encoder.fit_transform(X)\n",
    "        else:\n",
    "            result = self.encoder.transform(X)\n",
    "        return result; "
   ]
  },
  {
   "cell_type": "code",
   "execution_count": 375,
   "metadata": {},
   "outputs": [],
   "source": [
    "from sklearn.base import TransformerMixin,BaseEstimator"
   ]
  },
  {
   "cell_type": "code",
   "execution_count": 376,
   "metadata": {},
   "outputs": [],
   "source": [
    "import numpy as np\n",
    "windspeed_ix, pressure_ix, temperature_ix, var1_ix = 3, 2, 0, 1\n",
    "class CombinedAttributesAdder(BaseEstimator,TransformerMixin):\n",
    "    def __init__(self,add_features = True):\n",
    "        self.add_features = True\n",
    "    def fit(self,X,y=None):\n",
    "        return self\n",
    "    def transform(self,X ,y=None):\n",
    "        windspeed_by_pressure = X[:,windspeed_ix]/X[:,pressure_ix]\n",
    "        windspeed_into_pressure = X[:,windspeed_ix]*X[:,pressure_ix]\n",
    "        temperature_by_pressure = X[:,temperature_ix]/X[:,pressure_ix]\n",
    "        temperature_into_pressure = X[:,temperature_ix]*X[:,pressure_ix]\n",
    "        pressure_into_var1 = X[:,pressure_ix]*X[:,var1_ix]\n",
    "        windspeed_into_var1 = X[:,windspeed_ix]*X[:,var1_ix]\n",
    "        return np.c_[X,windspeed_by_pressure,windspeed_into_pressure,temperature_by_pressure,temperature_into_pressure,pressure_into_var1,windspeed_into_var1]"
   ]
  },
  {
   "cell_type": "code",
   "execution_count": 377,
   "metadata": {},
   "outputs": [],
   "source": [
    "class DataFrameSelector(BaseEstimator, TransformerMixin):\n",
    "    def __init__(self,attribute_names):\n",
    "        self.attribute_names = attribute_names\n",
    "    def fit(self, X, y=None):\n",
    "        return self\n",
    "    def transform(self, X):\n",
    "        return X[self.attribute_names].values"
   ]
  },
  {
   "cell_type": "code",
   "execution_count": 378,
   "metadata": {},
   "outputs": [],
   "source": [
    "num_attribs = [\"temperature\",\"var1\",\"pressure\",\"windspeed\"]\n",
    "cat_attribs = [\"var2\"]\n",
    "from sklearn.pipeline import Pipeline\n",
    "from sklearn.preprocessing import StandardScaler,PolynomialFeatures\n",
    "num_pipeline = Pipeline([('selector',DataFrameSelector(num_attribs)),('attribs_adder',CombinedAttributesAdder()),('std_scaler',StandardScaler())])\n",
    "cat_pipeline = Pipeline([('selector',DataFrameSelector(cat_attribs)),('label_binarizer',LabelBinarizer_new())])"
   ]
  },
  {
   "cell_type": "code",
   "execution_count": 379,
   "metadata": {},
   "outputs": [],
   "source": [
    "from sklearn.pipeline import FeatureUnion"
   ]
  },
  {
   "cell_type": "code",
   "execution_count": 380,
   "metadata": {},
   "outputs": [],
   "source": [
    "full_pipeline = FeatureUnion(transformer_list=[(\"num_pipeline\",num_pipeline),(\"cat_pipeline\",cat_pipeline)])"
   ]
  },
  {
   "cell_type": "code",
   "execution_count": 381,
   "metadata": {},
   "outputs": [
    {
     "name": "stdout",
     "output_type": "stream",
     "text": [
      "Initializing encoder\n"
     ]
    }
   ],
   "source": [
    "X_prepared = full_pipeline.fit_transform(X_train)"
   ]
  },
  {
   "cell_type": "code",
   "execution_count": 382,
   "metadata": {},
   "outputs": [
    {
     "data": {
      "text/plain": [
       "(26496, 13)"
      ]
     },
     "execution_count": 382,
     "metadata": {},
     "output_type": "execute_result"
    }
   ],
   "source": [
    "X_prepared.shape"
   ]
  },
  {
   "cell_type": "code",
   "execution_count": 383,
   "metadata": {},
   "outputs": [],
   "source": [
    "days = np.array([8*24,8*24,7*24,8*24,7*24,8*24,8*24,5*24,8*24,7*24,8*24,7*24,8*24,8*24,7*24,8*24,7*24,8*24,8*24,5*24,8*24,7*24,8*24,7*24,8*24,8*24,7*24,8*24,7*24,8*24,8*24,6*24,8*24,7*24,8*24,7*24,8*24,8*24,7*24,8*24,7*24,8*24,8*24,5*24,8*24,7*24,8*24,7*24])\n",
    "days = np.cumsum(days)\n",
    "from sklearn.svm import SVR\n",
    "svr_reg = SVR(kernel = \"rbf\",gamma = 5,C=0.001)"
   ]
  },
  {
   "cell_type": "code",
   "execution_count": 385,
   "metadata": {},
   "outputs": [
    {
     "name": "stdout",
     "output_type": "stream",
     "text": [
      "1\n",
      "2\n",
      "3\n",
      "4\n",
      "5\n",
      "6\n",
      "7\n",
      "8\n",
      "9\n",
      "10\n",
      "11\n",
      "12\n",
      "13\n",
      "14\n",
      "15\n",
      "16\n",
      "17\n",
      "18\n",
      "19\n",
      "20\n",
      "21\n",
      "22\n",
      "23\n",
      "24\n",
      "25\n",
      "26\n",
      "27\n",
      "28\n",
      "29\n",
      "30\n",
      "31\n",
      "32\n",
      "33\n",
      "34\n",
      "35\n",
      "36\n",
      "37\n",
      "38\n",
      "39\n",
      "40\n",
      "41\n",
      "42\n",
      "43\n",
      "44\n",
      "45\n",
      "46\n",
      "47\n",
      "48\n"
     ]
    }
   ],
   "source": [
    "from sklearn.ensemble import RandomForestRegressor\n",
    "forest_reg = RandomForestRegressor(n_estimators=100)\n",
    "from sklearn.linear_model import LinearRegression\n",
    "lin_reg = LinearRegression()\n",
    "from operator import add\n",
    "i=0\n",
    "k=[]\n",
    "p=[]\n",
    "r=[]\n",
    "for n_estimators in range(1,49):\n",
    "    #forest_reg.n_estimators =  100*n_estimators\n",
    "    #forest_reg.fit(X_prepared[:n_estimators*24*23],y_train[:n_estimators*24*23])\n",
    "    #lin_reg.fit(X_prepared[(n_estimators-1)*24*23:n_estimators*24*23],y_train[(n_estimators-1)*24*23:n_estimators*24*23])\n",
    "    forest_reg.fit(X_prepared[(n_estimators-1)*24*23:n_estimators*24*23],y_train[(n_estimators-1)*24*23:n_estimators*24*23])\n",
    "    #p.append(lin_reg)\n",
    "    r.append(forest_reg)\n",
    "    print(n_estimators)\n",
    "    X_test = test_data[i:days[n_estimators-1]].copy()\n",
    "    i=days[n_estimators-1]\n",
    "    y_id = X_test['ID'].values\n",
    "    X_test_prepared = full_pipeline.transform(X_test)\n",
    "    y_pred = [0]\n",
    "    y_pred = y_pred*X_test_prepared.shape[0]\n",
    "    for lin_reg in r:\n",
    "        y_pred =map(add,y_pred, lin_reg.predict(X_test_prepared))\n",
    "    div=len(r)\n",
    "    y_pred = [x/div for x in y_pred]\n",
    "    y_pred = np.c_[y_id,y_pred]\n",
    "    if n_estimators==1:\n",
    "        k = y_pred\n",
    "    else:\n",
    "        k = np.r_[k,y_pred]\n"
   ]
  },
  {
   "cell_type": "code",
   "execution_count": 386,
   "metadata": {},
   "outputs": [
    {
     "data": {
      "text/plain": [
       "array([[  552.  ,   205.5 ],\n",
       "       [  553.  ,   205.68],\n",
       "       [  554.  ,   203.7 ],\n",
       "       ...,\n",
       "       [35061.  ,   200.67],\n",
       "       [35062.  ,   194.7 ],\n",
       "       [35063.  ,   197.94]])"
      ]
     },
     "execution_count": 386,
     "metadata": {},
     "output_type": "execute_result"
    }
   ],
   "source": [
    "k"
   ]
  },
  {
   "cell_type": "code",
   "execution_count": 387,
   "metadata": {},
   "outputs": [],
   "source": [
    "k = pd.DataFrame(k,columns = [\"ID\",\"electricity_consumption\"])"
   ]
  },
  {
   "cell_type": "code",
   "execution_count": 388,
   "metadata": {},
   "outputs": [
    {
     "data": {
      "text/html": [
       "<div>\n",
       "<style scoped>\n",
       "    .dataframe tbody tr th:only-of-type {\n",
       "        vertical-align: middle;\n",
       "    }\n",
       "\n",
       "    .dataframe tbody tr th {\n",
       "        vertical-align: top;\n",
       "    }\n",
       "\n",
       "    .dataframe thead th {\n",
       "        text-align: right;\n",
       "    }\n",
       "</style>\n",
       "<table border=\"1\" class=\"dataframe\">\n",
       "  <thead>\n",
       "    <tr style=\"text-align: right;\">\n",
       "      <th></th>\n",
       "      <th>ID</th>\n",
       "      <th>electricity_consumption</th>\n",
       "    </tr>\n",
       "  </thead>\n",
       "  <tbody>\n",
       "    <tr>\n",
       "      <th>0</th>\n",
       "      <td>552.0</td>\n",
       "      <td>205.50</td>\n",
       "    </tr>\n",
       "    <tr>\n",
       "      <th>1</th>\n",
       "      <td>553.0</td>\n",
       "      <td>205.68</td>\n",
       "    </tr>\n",
       "    <tr>\n",
       "      <th>2</th>\n",
       "      <td>554.0</td>\n",
       "      <td>203.70</td>\n",
       "    </tr>\n",
       "    <tr>\n",
       "      <th>3</th>\n",
       "      <td>555.0</td>\n",
       "      <td>202.56</td>\n",
       "    </tr>\n",
       "    <tr>\n",
       "      <th>4</th>\n",
       "      <td>556.0</td>\n",
       "      <td>253.65</td>\n",
       "    </tr>\n",
       "  </tbody>\n",
       "</table>\n",
       "</div>"
      ],
      "text/plain": [
       "      ID  electricity_consumption\n",
       "0  552.0                   205.50\n",
       "1  553.0                   205.68\n",
       "2  554.0                   203.70\n",
       "3  555.0                   202.56\n",
       "4  556.0                   253.65"
      ]
     },
     "execution_count": 388,
     "metadata": {},
     "output_type": "execute_result"
    }
   ],
   "source": [
    "k.head()"
   ]
  },
  {
   "cell_type": "code",
   "execution_count": 389,
   "metadata": {},
   "outputs": [],
   "source": [
    "we = k.to_csv('submission.csv',index=False)"
   ]
  },
  {
   "cell_type": "code",
   "execution_count": null,
   "metadata": {},
   "outputs": [],
   "source": []
  }
 ],
 "metadata": {
  "kernelspec": {
   "display_name": "Python 3",
   "language": "python",
   "name": "python3"
  },
  "language_info": {
   "codemirror_mode": {
    "name": "ipython",
    "version": 3
   },
   "file_extension": ".py",
   "mimetype": "text/x-python",
   "name": "python",
   "nbconvert_exporter": "python",
   "pygments_lexer": "ipython3",
   "version": "3.5.2"
  }
 },
 "nbformat": 4,
 "nbformat_minor": 2
}
