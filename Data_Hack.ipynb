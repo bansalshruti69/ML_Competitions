{
 "cells": [
  {
   "cell_type": "code",
   "execution_count": 1,
   "metadata": {},
   "outputs": [],
   "source": [
    "import pandas as pd"
   ]
  },
  {
   "cell_type": "code",
   "execution_count": 2,
   "metadata": {},
   "outputs": [],
   "source": [
    "train_data = pd.read_csv(\"training_data.csv\")"
   ]
  },
  {
   "cell_type": "code",
   "execution_count": 3,
   "metadata": {},
   "outputs": [
    {
     "data": {
      "text/html": [
       "<div>\n",
       "<style scoped>\n",
       "    .dataframe tbody tr th:only-of-type {\n",
       "        vertical-align: middle;\n",
       "    }\n",
       "\n",
       "    .dataframe tbody tr th {\n",
       "        vertical-align: top;\n",
       "    }\n",
       "\n",
       "    .dataframe thead th {\n",
       "        text-align: right;\n",
       "    }\n",
       "</style>\n",
       "<table border=\"1\" class=\"dataframe\">\n",
       "  <thead>\n",
       "    <tr style=\"text-align: right;\">\n",
       "      <th></th>\n",
       "      <th>id</th>\n",
       "      <th>game</th>\n",
       "      <th>white</th>\n",
       "      <th>black</th>\n",
       "      <th>white_elo</th>\n",
       "      <th>black_elo</th>\n",
       "      <th>white_rd</th>\n",
       "      <th>black_rd</th>\n",
       "      <th>whiteiscomp</th>\n",
       "      <th>blackiscomp</th>\n",
       "      <th>timecontrol</th>\n",
       "      <th>date</th>\n",
       "      <th>time</th>\n",
       "      <th>white_clock</th>\n",
       "      <th>black_clock</th>\n",
       "      <th>eco</th>\n",
       "      <th>plycount</th>\n",
       "      <th>commentaries</th>\n",
       "      <th>moves</th>\n",
       "    </tr>\n",
       "  </thead>\n",
       "  <tbody>\n",
       "    <tr>\n",
       "      <th>0</th>\n",
       "      <td>24843</td>\n",
       "      <td>\"Sillycon\" vs \"Danyboyfr\"</td>\n",
       "      <td>Sillycon</td>\n",
       "      <td>Danyboyfr</td>\n",
       "      <td>2391</td>\n",
       "      <td>1706</td>\n",
       "      <td>39.8</td>\n",
       "      <td>324.9</td>\n",
       "      <td>True</td>\n",
       "      <td>False</td>\n",
       "      <td>900+0</td>\n",
       "      <td>NaN</td>\n",
       "      <td>12:35:00</td>\n",
       "      <td>15:00.0</td>\n",
       "      <td>15:00.0</td>\n",
       "      <td>B53</td>\n",
       "      <td>45</td>\n",
       "      <td>Black checkmated</td>\n",
       "      <td>1. e4 c6 2. Nf3 d6 3. d4 b5 4. Bd3 a5 5. O-O N...</td>\n",
       "    </tr>\n",
       "    <tr>\n",
       "      <th>1</th>\n",
       "      <td>18981</td>\n",
       "      <td>\"cagliari\" vs \"Knightsmasher\"</td>\n",
       "      <td>cagliari</td>\n",
       "      <td>Knightsmasher</td>\n",
       "      <td>1716</td>\n",
       "      <td>2611</td>\n",
       "      <td>341.5</td>\n",
       "      <td>61.1</td>\n",
       "      <td>False</td>\n",
       "      <td>True</td>\n",
       "      <td>60+0</td>\n",
       "      <td>NaN</td>\n",
       "      <td>05:13:00</td>\n",
       "      <td>01:00.0</td>\n",
       "      <td>01:00.0</td>\n",
       "      <td>C42</td>\n",
       "      <td>30</td>\n",
       "      <td>White forfeits on time</td>\n",
       "      <td>1. e4 e5 2. d3 Nf6 3. Bg5 h6 4. Bxf6 Qxf6 5. N...</td>\n",
       "    </tr>\n",
       "    <tr>\n",
       "      <th>2</th>\n",
       "      <td>24251</td>\n",
       "      <td>\"sylwild\" vs \"Knightsmasher\"</td>\n",
       "      <td>sylwild</td>\n",
       "      <td>Knightsmasher</td>\n",
       "      <td>1736</td>\n",
       "      <td>2319</td>\n",
       "      <td>45.3</td>\n",
       "      <td>46.1</td>\n",
       "      <td>False</td>\n",
       "      <td>True</td>\n",
       "      <td>900+0</td>\n",
       "      <td>NaN</td>\n",
       "      <td>12:18:00</td>\n",
       "      <td>15:00.0</td>\n",
       "      <td>15:00.0</td>\n",
       "      <td>B00</td>\n",
       "      <td>1</td>\n",
       "      <td>White resigns</td>\n",
       "      <td>1. e4 Nf6 2. e5 Nd5 3. d4 d6 4. Bc4 e6 5. Nf3 ...</td>\n",
       "    </tr>\n",
       "    <tr>\n",
       "      <th>3</th>\n",
       "      <td>35737</td>\n",
       "      <td>\"archonpaladin\" vs \"IFDThor\"</td>\n",
       "      <td>archonpaladin</td>\n",
       "      <td>IFDThor</td>\n",
       "      <td>1803</td>\n",
       "      <td>2260</td>\n",
       "      <td>38.9</td>\n",
       "      <td>16.3</td>\n",
       "      <td>False</td>\n",
       "      <td>True</td>\n",
       "      <td>300+0</td>\n",
       "      <td>NaN</td>\n",
       "      <td>09:30:00</td>\n",
       "      <td>05:00.0</td>\n",
       "      <td>05:00.0</td>\n",
       "      <td>B10</td>\n",
       "      <td>56</td>\n",
       "      <td>White resigns</td>\n",
       "      <td>1. e4 c5 2. Nc3 Nc6 3. Nf3 d6 4. Bc4 Nf6 5. O-...</td>\n",
       "    </tr>\n",
       "    <tr>\n",
       "      <th>4</th>\n",
       "      <td>34345</td>\n",
       "      <td>\"sparse\" vs \"IFDThor\"</td>\n",
       "      <td>sparse</td>\n",
       "      <td>IFDThor</td>\n",
       "      <td>1884</td>\n",
       "      <td>2184</td>\n",
       "      <td>28.0</td>\n",
       "      <td>16.3</td>\n",
       "      <td>False</td>\n",
       "      <td>True</td>\n",
       "      <td>300+0</td>\n",
       "      <td>NaN</td>\n",
       "      <td>18:40:00</td>\n",
       "      <td>05:00.0</td>\n",
       "      <td>05:00.0</td>\n",
       "      <td>B18</td>\n",
       "      <td>58</td>\n",
       "      <td>White resigns</td>\n",
       "      <td>1. g3 e5 2. Bg2 Nf6 3. d3 d5 4. Nc3 Bb4 5. Bd2...</td>\n",
       "    </tr>\n",
       "  </tbody>\n",
       "</table>\n",
       "</div>"
      ],
      "text/plain": [
       "      id                            game          white          black  \\\n",
       "0  24843       \"Sillycon\" vs \"Danyboyfr\"       Sillycon      Danyboyfr   \n",
       "1  18981   \"cagliari\" vs \"Knightsmasher\"       cagliari  Knightsmasher   \n",
       "2  24251    \"sylwild\" vs \"Knightsmasher\"        sylwild  Knightsmasher   \n",
       "3  35737    \"archonpaladin\" vs \"IFDThor\"  archonpaladin        IFDThor   \n",
       "4  34345           \"sparse\" vs \"IFDThor\"         sparse        IFDThor   \n",
       "\n",
       "   white_elo  black_elo  white_rd  black_rd  whiteiscomp  blackiscomp  \\\n",
       "0       2391       1706      39.8     324.9         True        False   \n",
       "1       1716       2611     341.5      61.1        False         True   \n",
       "2       1736       2319      45.3      46.1        False         True   \n",
       "3       1803       2260      38.9      16.3        False         True   \n",
       "4       1884       2184      28.0      16.3        False         True   \n",
       "\n",
       "  timecontrol  date      time white_clock black_clock  eco  plycount  \\\n",
       "0       900+0   NaN  12:35:00     15:00.0     15:00.0  B53        45   \n",
       "1        60+0   NaN  05:13:00     01:00.0     01:00.0  C42        30   \n",
       "2       900+0   NaN  12:18:00     15:00.0     15:00.0  B00         1   \n",
       "3       300+0   NaN  09:30:00     05:00.0     05:00.0  B10        56   \n",
       "4       300+0   NaN  18:40:00     05:00.0     05:00.0  B18        58   \n",
       "\n",
       "             commentaries                                              moves  \n",
       "0        Black checkmated  1. e4 c6 2. Nf3 d6 3. d4 b5 4. Bd3 a5 5. O-O N...  \n",
       "1  White forfeits on time  1. e4 e5 2. d3 Nf6 3. Bg5 h6 4. Bxf6 Qxf6 5. N...  \n",
       "2           White resigns  1. e4 Nf6 2. e5 Nd5 3. d4 d6 4. Bc4 e6 5. Nf3 ...  \n",
       "3           White resigns  1. e4 c5 2. Nc3 Nc6 3. Nf3 d6 4. Bc4 Nf6 5. O-...  \n",
       "4           White resigns  1. g3 e5 2. Bg2 Nf6 3. d3 d5 4. Nc3 Bb4 5. Bd2...  "
      ]
     },
     "execution_count": 3,
     "metadata": {},
     "output_type": "execute_result"
    }
   ],
   "source": [
    "train_data.head()"
   ]
  },
  {
   "cell_type": "code",
   "execution_count": 5,
   "metadata": {},
   "outputs": [],
   "source": [
    "test_data = pd.read_csv(\"testing_data.csv\")"
   ]
  },
  {
   "cell_type": "code",
   "execution_count": 6,
   "metadata": {},
   "outputs": [
    {
     "data": {
      "text/html": [
       "<div>\n",
       "<style scoped>\n",
       "    .dataframe tbody tr th:only-of-type {\n",
       "        vertical-align: middle;\n",
       "    }\n",
       "\n",
       "    .dataframe tbody tr th {\n",
       "        vertical-align: top;\n",
       "    }\n",
       "\n",
       "    .dataframe thead th {\n",
       "        text-align: right;\n",
       "    }\n",
       "</style>\n",
       "<table border=\"1\" class=\"dataframe\">\n",
       "  <thead>\n",
       "    <tr style=\"text-align: right;\">\n",
       "      <th></th>\n",
       "      <th>id</th>\n",
       "      <th>game</th>\n",
       "      <th>white</th>\n",
       "      <th>black</th>\n",
       "      <th>white_elo</th>\n",
       "      <th>black_elo</th>\n",
       "      <th>white_rd</th>\n",
       "      <th>black_rd</th>\n",
       "      <th>whiteiscomp</th>\n",
       "      <th>blackiscomp</th>\n",
       "      <th>timecontrol</th>\n",
       "      <th>date</th>\n",
       "      <th>time</th>\n",
       "      <th>white_clock</th>\n",
       "      <th>black_clock</th>\n",
       "      <th>eco</th>\n",
       "      <th>plycount</th>\n",
       "      <th>moves</th>\n",
       "    </tr>\n",
       "  </thead>\n",
       "  <tbody>\n",
       "    <tr>\n",
       "      <th>0</th>\n",
       "      <td>76456</td>\n",
       "      <td>\"juropbike\" vs \"BabyLurking\"</td>\n",
       "      <td>juropbike</td>\n",
       "      <td>BabyLurking</td>\n",
       "      <td>2319</td>\n",
       "      <td>2921</td>\n",
       "      <td>39.8</td>\n",
       "      <td>16.7</td>\n",
       "      <td>False</td>\n",
       "      <td>True</td>\n",
       "      <td>60+0</td>\n",
       "      <td>NaN</td>\n",
       "      <td>05:24:00</td>\n",
       "      <td>01:00.0</td>\n",
       "      <td>01:00.0</td>\n",
       "      <td>A00</td>\n",
       "      <td>0</td>\n",
       "      <td>1. d4 Nf6 2. c4 e6 3. Nf3 b6 4. g3 Ba6 5. b3 B...</td>\n",
       "    </tr>\n",
       "    <tr>\n",
       "      <th>1</th>\n",
       "      <td>17495</td>\n",
       "      <td>\"nikst\" vs \"JuniorLurking\"</td>\n",
       "      <td>nikst</td>\n",
       "      <td>JuniorLurking</td>\n",
       "      <td>2048</td>\n",
       "      <td>2141</td>\n",
       "      <td>39.1</td>\n",
       "      <td>28.2</td>\n",
       "      <td>False</td>\n",
       "      <td>True</td>\n",
       "      <td>900+0</td>\n",
       "      <td>NaN</td>\n",
       "      <td>08:15:00</td>\n",
       "      <td>15:00.0</td>\n",
       "      <td>15:00.0</td>\n",
       "      <td>A45</td>\n",
       "      <td>19</td>\n",
       "      <td>1. e4 c5 2. Nc3 Nc6 3. Bc4 Nf6 4. d4 cxd4</td>\n",
       "    </tr>\n",
       "    <tr>\n",
       "      <th>2</th>\n",
       "      <td>18471</td>\n",
       "      <td>\"KingLudwig\" vs \"GriffySr\"</td>\n",
       "      <td>KingLudwig</td>\n",
       "      <td>GriffySr</td>\n",
       "      <td>2112</td>\n",
       "      <td>2005</td>\n",
       "      <td>34.8</td>\n",
       "      <td>19.9</td>\n",
       "      <td>False</td>\n",
       "      <td>True</td>\n",
       "      <td>300+0</td>\n",
       "      <td>NaN</td>\n",
       "      <td>02:40:00</td>\n",
       "      <td>05:00.0</td>\n",
       "      <td>05:00.0</td>\n",
       "      <td>A00</td>\n",
       "      <td>47</td>\n",
       "      <td>1. d4 Nf6 2. Nf3 g6 3. Nc3 Bg7 4. e4 O-O 5. e5...</td>\n",
       "    </tr>\n",
       "    <tr>\n",
       "      <th>3</th>\n",
       "      <td>72817</td>\n",
       "      <td>\"joshllyman\" vs \"JuniorLurking\"</td>\n",
       "      <td>joshllyman</td>\n",
       "      <td>JuniorLurking</td>\n",
       "      <td>2542</td>\n",
       "      <td>3099</td>\n",
       "      <td>48.5</td>\n",
       "      <td>17.9</td>\n",
       "      <td>False</td>\n",
       "      <td>True</td>\n",
       "      <td>60+0</td>\n",
       "      <td>NaN</td>\n",
       "      <td>07:52:00</td>\n",
       "      <td>01:00.0</td>\n",
       "      <td>01:00.0</td>\n",
       "      <td>A00</td>\n",
       "      <td>0</td>\n",
       "      <td>1. b3 e5 2. g3 d5 3. d3 Nf6 4. Bg5 h6 5. Bxf6 ...</td>\n",
       "    </tr>\n",
       "    <tr>\n",
       "      <th>4</th>\n",
       "      <td>51510</td>\n",
       "      <td>\"Knightsmasher\" vs \"Chhirag\"</td>\n",
       "      <td>Knightsmasher</td>\n",
       "      <td>Chhirag</td>\n",
       "      <td>2419</td>\n",
       "      <td>1671</td>\n",
       "      <td>52.0</td>\n",
       "      <td>296.3</td>\n",
       "      <td>True</td>\n",
       "      <td>False</td>\n",
       "      <td>900+0</td>\n",
       "      <td>NaN</td>\n",
       "      <td>14:51:00</td>\n",
       "      <td>15:00.0</td>\n",
       "      <td>15:00.0</td>\n",
       "      <td>C42</td>\n",
       "      <td>29</td>\n",
       "      <td>1. e4 c6 2. d4 d5 3. Nc3 dxe4 4. Nxe4 Bf5 5. N...</td>\n",
       "    </tr>\n",
       "  </tbody>\n",
       "</table>\n",
       "</div>"
      ],
      "text/plain": [
       "      id                              game          white          black  \\\n",
       "0  76456      \"juropbike\" vs \"BabyLurking\"      juropbike    BabyLurking   \n",
       "1  17495        \"nikst\" vs \"JuniorLurking\"          nikst  JuniorLurking   \n",
       "2  18471        \"KingLudwig\" vs \"GriffySr\"     KingLudwig       GriffySr   \n",
       "3  72817   \"joshllyman\" vs \"JuniorLurking\"     joshllyman  JuniorLurking   \n",
       "4  51510      \"Knightsmasher\" vs \"Chhirag\"  Knightsmasher        Chhirag   \n",
       "\n",
       "   white_elo  black_elo  white_rd  black_rd  whiteiscomp  blackiscomp  \\\n",
       "0       2319       2921      39.8      16.7        False         True   \n",
       "1       2048       2141      39.1      28.2        False         True   \n",
       "2       2112       2005      34.8      19.9        False         True   \n",
       "3       2542       3099      48.5      17.9        False         True   \n",
       "4       2419       1671      52.0     296.3         True        False   \n",
       "\n",
       "  timecontrol  date      time white_clock black_clock  eco  plycount  \\\n",
       "0        60+0   NaN  05:24:00     01:00.0     01:00.0  A00         0   \n",
       "1       900+0   NaN  08:15:00     15:00.0     15:00.0  A45        19   \n",
       "2       300+0   NaN  02:40:00     05:00.0     05:00.0  A00        47   \n",
       "3        60+0   NaN  07:52:00     01:00.0     01:00.0  A00         0   \n",
       "4       900+0   NaN  14:51:00     15:00.0     15:00.0  C42        29   \n",
       "\n",
       "                                               moves  \n",
       "0  1. d4 Nf6 2. c4 e6 3. Nf3 b6 4. g3 Ba6 5. b3 B...  \n",
       "1         1. e4 c5 2. Nc3 Nc6 3. Bc4 Nf6 4. d4 cxd4   \n",
       "2  1. d4 Nf6 2. Nf3 g6 3. Nc3 Bg7 4. e4 O-O 5. e5...  \n",
       "3  1. b3 e5 2. g3 d5 3. d3 Nf6 4. Bg5 h6 5. Bxf6 ...  \n",
       "4  1. e4 c6 2. d4 d5 3. Nc3 dxe4 4. Nxe4 Bf5 5. N...  "
      ]
     },
     "execution_count": 6,
     "metadata": {},
     "output_type": "execute_result"
    }
   ],
   "source": [
    "test_data.head()"
   ]
  },
  {
   "cell_type": "code",
   "execution_count": 11,
   "metadata": {},
   "outputs": [
    {
     "data": {
      "text/html": [
       "<div>\n",
       "<style scoped>\n",
       "    .dataframe tbody tr th:only-of-type {\n",
       "        vertical-align: middle;\n",
       "    }\n",
       "\n",
       "    .dataframe tbody tr th {\n",
       "        vertical-align: top;\n",
       "    }\n",
       "\n",
       "    .dataframe thead th {\n",
       "        text-align: right;\n",
       "    }\n",
       "</style>\n",
       "<table border=\"1\" class=\"dataframe\">\n",
       "  <thead>\n",
       "    <tr style=\"text-align: right;\">\n",
       "      <th></th>\n",
       "      <th>id</th>\n",
       "      <th>white_elo</th>\n",
       "      <th>black_elo</th>\n",
       "      <th>white_rd</th>\n",
       "      <th>black_rd</th>\n",
       "      <th>date</th>\n",
       "      <th>plycount</th>\n",
       "    </tr>\n",
       "  </thead>\n",
       "  <tbody>\n",
       "    <tr>\n",
       "      <th>count</th>\n",
       "      <td>52676.000000</td>\n",
       "      <td>52676.000000</td>\n",
       "      <td>52676.000000</td>\n",
       "      <td>52676.000000</td>\n",
       "      <td>52676.000000</td>\n",
       "      <td>0.0</td>\n",
       "      <td>52676.000000</td>\n",
       "    </tr>\n",
       "    <tr>\n",
       "      <th>mean</th>\n",
       "      <td>40513.854943</td>\n",
       "      <td>2151.600881</td>\n",
       "      <td>2152.034000</td>\n",
       "      <td>51.449212</td>\n",
       "      <td>51.058201</td>\n",
       "      <td>NaN</td>\n",
       "      <td>58.863543</td>\n",
       "    </tr>\n",
       "    <tr>\n",
       "      <th>std</th>\n",
       "      <td>23413.471103</td>\n",
       "      <td>290.684840</td>\n",
       "      <td>291.789731</td>\n",
       "      <td>58.330943</td>\n",
       "      <td>57.916217</td>\n",
       "      <td>NaN</td>\n",
       "      <td>44.989570</td>\n",
       "    </tr>\n",
       "    <tr>\n",
       "      <th>min</th>\n",
       "      <td>1.000000</td>\n",
       "      <td>1046.000000</td>\n",
       "      <td>995.000000</td>\n",
       "      <td>0.000000</td>\n",
       "      <td>0.000000</td>\n",
       "      <td>NaN</td>\n",
       "      <td>0.000000</td>\n",
       "    </tr>\n",
       "    <tr>\n",
       "      <th>25%</th>\n",
       "      <td>20235.750000</td>\n",
       "      <td>1951.000000</td>\n",
       "      <td>1951.000000</td>\n",
       "      <td>23.600000</td>\n",
       "      <td>23.600000</td>\n",
       "      <td>NaN</td>\n",
       "      <td>30.000000</td>\n",
       "    </tr>\n",
       "    <tr>\n",
       "      <th>50%</th>\n",
       "      <td>40497.500000</td>\n",
       "      <td>2143.000000</td>\n",
       "      <td>2143.000000</td>\n",
       "      <td>34.000000</td>\n",
       "      <td>33.800000</td>\n",
       "      <td>NaN</td>\n",
       "      <td>51.000000</td>\n",
       "    </tr>\n",
       "    <tr>\n",
       "      <th>75%</th>\n",
       "      <td>60861.250000</td>\n",
       "      <td>2342.000000</td>\n",
       "      <td>2343.000000</td>\n",
       "      <td>49.100000</td>\n",
       "      <td>48.800000</td>\n",
       "      <td>NaN</td>\n",
       "      <td>81.000000</td>\n",
       "    </tr>\n",
       "    <tr>\n",
       "      <th>max</th>\n",
       "      <td>81040.000000</td>\n",
       "      <td>3491.000000</td>\n",
       "      <td>3496.000000</td>\n",
       "      <td>350.000000</td>\n",
       "      <td>350.000000</td>\n",
       "      <td>NaN</td>\n",
       "      <td>477.000000</td>\n",
       "    </tr>\n",
       "  </tbody>\n",
       "</table>\n",
       "</div>"
      ],
      "text/plain": [
       "                 id     white_elo     black_elo      white_rd      black_rd  \\\n",
       "count  52676.000000  52676.000000  52676.000000  52676.000000  52676.000000   \n",
       "mean   40513.854943   2151.600881   2152.034000     51.449212     51.058201   \n",
       "std    23413.471103    290.684840    291.789731     58.330943     57.916217   \n",
       "min        1.000000   1046.000000    995.000000      0.000000      0.000000   \n",
       "25%    20235.750000   1951.000000   1951.000000     23.600000     23.600000   \n",
       "50%    40497.500000   2143.000000   2143.000000     34.000000     33.800000   \n",
       "75%    60861.250000   2342.000000   2343.000000     49.100000     48.800000   \n",
       "max    81040.000000   3491.000000   3496.000000    350.000000    350.000000   \n",
       "\n",
       "       date      plycount  \n",
       "count   0.0  52676.000000  \n",
       "mean    NaN     58.863543  \n",
       "std     NaN     44.989570  \n",
       "min     NaN      0.000000  \n",
       "25%     NaN     30.000000  \n",
       "50%     NaN     51.000000  \n",
       "75%     NaN     81.000000  \n",
       "max     NaN    477.000000  "
      ]
     },
     "execution_count": 11,
     "metadata": {},
     "output_type": "execute_result"
    }
   ],
   "source": [
    "train_data.describe()"
   ]
  },
  {
   "cell_type": "code",
   "execution_count": 12,
   "metadata": {},
   "outputs": [
    {
     "name": "stdout",
     "output_type": "stream",
     "text": [
      "<class 'pandas.core.frame.DataFrame'>\n",
      "RangeIndex: 52676 entries, 0 to 52675\n",
      "Data columns (total 19 columns):\n",
      "id              52676 non-null int64\n",
      "game            52676 non-null object\n",
      "white           52676 non-null object\n",
      "black           52676 non-null object\n",
      "white_elo       52676 non-null int64\n",
      "black_elo       52676 non-null int64\n",
      "white_rd        52676 non-null float64\n",
      "black_rd        52676 non-null float64\n",
      "whiteiscomp     52676 non-null bool\n",
      "blackiscomp     52676 non-null bool\n",
      "timecontrol     52676 non-null object\n",
      "date            0 non-null float64\n",
      "time            52676 non-null object\n",
      "white_clock     52676 non-null object\n",
      "black_clock     52676 non-null object\n",
      "eco             52676 non-null object\n",
      "plycount        52676 non-null int64\n",
      "commentaries    52676 non-null object\n",
      "moves           52676 non-null object\n",
      "dtypes: bool(2), float64(3), int64(4), object(10)\n",
      "memory usage: 6.9+ MB\n"
     ]
    }
   ],
   "source": [
    "train_data.info()"
   ]
  },
  {
   "cell_type": "code",
   "execution_count": 20,
   "metadata": {},
   "outputs": [
    {
     "data": {
      "text/plain": [
       "52676"
      ]
     },
     "execution_count": 20,
     "metadata": {},
     "output_type": "execute_result"
    }
   ],
   "source": [
    "sum(train_data[\"white_clock\"]==train_data[\"black_clock\"])"
   ]
  },
  {
   "cell_type": "code",
   "execution_count": 21,
   "metadata": {},
   "outputs": [
    {
     "data": {
      "text/plain": [
       "(52676, 19)"
      ]
     },
     "execution_count": 21,
     "metadata": {},
     "output_type": "execute_result"
    }
   ],
   "source": [
    "train_data.shape"
   ]
  },
  {
   "cell_type": "code",
   "execution_count": 23,
   "metadata": {},
   "outputs": [],
   "source": [
    "chess = train_data.drop(\"commentaries\",axis=1)"
   ]
  },
  {
   "cell_type": "code",
   "execution_count": 24,
   "metadata": {},
   "outputs": [],
   "source": [
    "from sklearn.base import BaseEstimator, TransformerMixin\n",
    "class DataFrameSelector(BaseEstimator,TransformerMixin):\n",
    "    def __init__(self,attribute_names):\n",
    "        self.attribute_names=attribute_names\n",
    "    def fit(self,X,y=None):\n",
    "        return self\n",
    "    def transform(self,X):\n",
    "        return X[self.attribute_names].values"
   ]
  },
  {
   "cell_type": "code",
   "execution_count": 25,
   "metadata": {},
   "outputs": [],
   "source": [
    "from sklearn.preprocessing import StandardScaler"
   ]
  },
  {
   "cell_type": "code",
   "execution_count": 26,
   "metadata": {},
   "outputs": [],
   "source": [
    "scaler = StandardScaler()"
   ]
  },
  {
   "cell_type": "code",
   "execution_count": 32,
   "metadata": {},
   "outputs": [
    {
     "data": {
      "text/html": [
       "<div>\n",
       "<style scoped>\n",
       "    .dataframe tbody tr th:only-of-type {\n",
       "        vertical-align: middle;\n",
       "    }\n",
       "\n",
       "    .dataframe tbody tr th {\n",
       "        vertical-align: top;\n",
       "    }\n",
       "\n",
       "    .dataframe thead th {\n",
       "        text-align: right;\n",
       "    }\n",
       "</style>\n",
       "<table border=\"1\" class=\"dataframe\">\n",
       "  <thead>\n",
       "    <tr style=\"text-align: right;\">\n",
       "      <th></th>\n",
       "      <th>id</th>\n",
       "      <th>game</th>\n",
       "      <th>white</th>\n",
       "      <th>black</th>\n",
       "      <th>white_elo</th>\n",
       "      <th>black_elo</th>\n",
       "      <th>white_rd</th>\n",
       "      <th>black_rd</th>\n",
       "      <th>whiteiscomp</th>\n",
       "      <th>blackiscomp</th>\n",
       "      <th>timecontrol</th>\n",
       "      <th>date</th>\n",
       "      <th>time</th>\n",
       "      <th>white_clock</th>\n",
       "      <th>black_clock</th>\n",
       "      <th>eco</th>\n",
       "      <th>plycount</th>\n",
       "      <th>commentaries</th>\n",
       "      <th>moves</th>\n",
       "    </tr>\n",
       "  </thead>\n",
       "  <tbody>\n",
       "    <tr>\n",
       "      <th>0</th>\n",
       "      <td>24843</td>\n",
       "      <td>\"Sillycon\" vs \"Danyboyfr\"</td>\n",
       "      <td>Sillycon</td>\n",
       "      <td>Danyboyfr</td>\n",
       "      <td>2391</td>\n",
       "      <td>1706</td>\n",
       "      <td>39.8</td>\n",
       "      <td>324.9</td>\n",
       "      <td>1</td>\n",
       "      <td>0</td>\n",
       "      <td>900+0</td>\n",
       "      <td>NaN</td>\n",
       "      <td>12:35:00</td>\n",
       "      <td>15:00.0</td>\n",
       "      <td>15:00.0</td>\n",
       "      <td>B53</td>\n",
       "      <td>45</td>\n",
       "      <td>Black checkmated</td>\n",
       "      <td>1. e4 c6 2. Nf3 d6 3. d4 b5 4. Bd3 a5 5. O-O N...</td>\n",
       "    </tr>\n",
       "    <tr>\n",
       "      <th>1</th>\n",
       "      <td>18981</td>\n",
       "      <td>\"cagliari\" vs \"Knightsmasher\"</td>\n",
       "      <td>cagliari</td>\n",
       "      <td>Knightsmasher</td>\n",
       "      <td>1716</td>\n",
       "      <td>2611</td>\n",
       "      <td>341.5</td>\n",
       "      <td>61.1</td>\n",
       "      <td>0</td>\n",
       "      <td>1</td>\n",
       "      <td>60+0</td>\n",
       "      <td>NaN</td>\n",
       "      <td>05:13:00</td>\n",
       "      <td>01:00.0</td>\n",
       "      <td>01:00.0</td>\n",
       "      <td>C42</td>\n",
       "      <td>30</td>\n",
       "      <td>White forfeits on time</td>\n",
       "      <td>1. e4 e5 2. d3 Nf6 3. Bg5 h6 4. Bxf6 Qxf6 5. N...</td>\n",
       "    </tr>\n",
       "    <tr>\n",
       "      <th>2</th>\n",
       "      <td>24251</td>\n",
       "      <td>\"sylwild\" vs \"Knightsmasher\"</td>\n",
       "      <td>sylwild</td>\n",
       "      <td>Knightsmasher</td>\n",
       "      <td>1736</td>\n",
       "      <td>2319</td>\n",
       "      <td>45.3</td>\n",
       "      <td>46.1</td>\n",
       "      <td>0</td>\n",
       "      <td>1</td>\n",
       "      <td>900+0</td>\n",
       "      <td>NaN</td>\n",
       "      <td>12:18:00</td>\n",
       "      <td>15:00.0</td>\n",
       "      <td>15:00.0</td>\n",
       "      <td>B00</td>\n",
       "      <td>1</td>\n",
       "      <td>White resigns</td>\n",
       "      <td>1. e4 Nf6 2. e5 Nd5 3. d4 d6 4. Bc4 e6 5. Nf3 ...</td>\n",
       "    </tr>\n",
       "    <tr>\n",
       "      <th>3</th>\n",
       "      <td>35737</td>\n",
       "      <td>\"archonpaladin\" vs \"IFDThor\"</td>\n",
       "      <td>archonpaladin</td>\n",
       "      <td>IFDThor</td>\n",
       "      <td>1803</td>\n",
       "      <td>2260</td>\n",
       "      <td>38.9</td>\n",
       "      <td>16.3</td>\n",
       "      <td>0</td>\n",
       "      <td>1</td>\n",
       "      <td>300+0</td>\n",
       "      <td>NaN</td>\n",
       "      <td>09:30:00</td>\n",
       "      <td>05:00.0</td>\n",
       "      <td>05:00.0</td>\n",
       "      <td>B10</td>\n",
       "      <td>56</td>\n",
       "      <td>White resigns</td>\n",
       "      <td>1. e4 c5 2. Nc3 Nc6 3. Nf3 d6 4. Bc4 Nf6 5. O-...</td>\n",
       "    </tr>\n",
       "    <tr>\n",
       "      <th>4</th>\n",
       "      <td>34345</td>\n",
       "      <td>\"sparse\" vs \"IFDThor\"</td>\n",
       "      <td>sparse</td>\n",
       "      <td>IFDThor</td>\n",
       "      <td>1884</td>\n",
       "      <td>2184</td>\n",
       "      <td>28.0</td>\n",
       "      <td>16.3</td>\n",
       "      <td>0</td>\n",
       "      <td>1</td>\n",
       "      <td>300+0</td>\n",
       "      <td>NaN</td>\n",
       "      <td>18:40:00</td>\n",
       "      <td>05:00.0</td>\n",
       "      <td>05:00.0</td>\n",
       "      <td>B18</td>\n",
       "      <td>58</td>\n",
       "      <td>White resigns</td>\n",
       "      <td>1. g3 e5 2. Bg2 Nf6 3. d3 d5 4. Nc3 Bb4 5. Bd2...</td>\n",
       "    </tr>\n",
       "  </tbody>\n",
       "</table>\n",
       "</div>"
      ],
      "text/plain": [
       "      id                            game          white          black  \\\n",
       "0  24843       \"Sillycon\" vs \"Danyboyfr\"       Sillycon      Danyboyfr   \n",
       "1  18981   \"cagliari\" vs \"Knightsmasher\"       cagliari  Knightsmasher   \n",
       "2  24251    \"sylwild\" vs \"Knightsmasher\"        sylwild  Knightsmasher   \n",
       "3  35737    \"archonpaladin\" vs \"IFDThor\"  archonpaladin        IFDThor   \n",
       "4  34345           \"sparse\" vs \"IFDThor\"         sparse        IFDThor   \n",
       "\n",
       "   white_elo  black_elo  white_rd  black_rd  whiteiscomp  blackiscomp  \\\n",
       "0       2391       1706      39.8     324.9            1            0   \n",
       "1       1716       2611     341.5      61.1            0            1   \n",
       "2       1736       2319      45.3      46.1            0            1   \n",
       "3       1803       2260      38.9      16.3            0            1   \n",
       "4       1884       2184      28.0      16.3            0            1   \n",
       "\n",
       "  timecontrol  date      time white_clock black_clock  eco  plycount  \\\n",
       "0       900+0   NaN  12:35:00     15:00.0     15:00.0  B53        45   \n",
       "1        60+0   NaN  05:13:00     01:00.0     01:00.0  C42        30   \n",
       "2       900+0   NaN  12:18:00     15:00.0     15:00.0  B00         1   \n",
       "3       300+0   NaN  09:30:00     05:00.0     05:00.0  B10        56   \n",
       "4       300+0   NaN  18:40:00     05:00.0     05:00.0  B18        58   \n",
       "\n",
       "             commentaries                                              moves  \n",
       "0        Black checkmated  1. e4 c6 2. Nf3 d6 3. d4 b5 4. Bd3 a5 5. O-O N...  \n",
       "1  White forfeits on time  1. e4 e5 2. d3 Nf6 3. Bg5 h6 4. Bxf6 Qxf6 5. N...  \n",
       "2           White resigns  1. e4 Nf6 2. e5 Nd5 3. d4 d6 4. Bc4 e6 5. Nf3 ...  \n",
       "3           White resigns  1. e4 c5 2. Nc3 Nc6 3. Nf3 d6 4. Bc4 Nf6 5. O-...  \n",
       "4           White resigns  1. g3 e5 2. Bg2 Nf6 3. d3 d5 4. Nc3 Bb4 5. Bd2...  "
      ]
     },
     "execution_count": 32,
     "metadata": {},
     "output_type": "execute_result"
    }
   ],
   "source": [
    "from sklearn.preprocessing import LabelBinarizer,Imputer\n",
    "class LabelBinarizer_new(TransformerMixin, BaseEstimator):\n",
    "    def fit(self, X, y = 0):\n",
    "        self.encoder = None\n",
    "        return self\n",
    "    def transform(self, X, y = 0):\n",
    "        if(self.encoder is None):\n",
    "            print(\"Initializing encoder\")\n",
    "            self.encoder = LabelBinarizer();\n",
    "            result = self.encoder.fit_transform(X)\n",
    "        else:\n",
    "            result = self.encoder.transform(X)\n",
    "        return result; \n",
    "train_data[\"whiteiscomp\"]=train_data[\"whiteiscomp\"].astype(int)\n",
    "train_data[\"blackiscomp\"]=train_data[\"blackiscomp\"].astype(int)\n",
    "train_data.head()"
   ]
  },
  {
   "cell_type": "code",
   "execution_count": 28,
   "metadata": {},
   "outputs": [],
   "source": [
    "#whiteiscomp_ix, blackiscomp_ix, time_ix, whiteclock_ix, timecontrol_ix = 9, 10, 13, 14, 11\n",
    "#class CombinedAttributesAdder(BaseEstimator,TransformerMixin):\n",
    " #   def __init__(self,add_bedrooms_per_room=True):\n",
    "  #      self.add_bedrooms_per_room = add_bedrooms_per_room\n",
    "   # def fit(self,X,y=None):\n",
    "    #    return self\n",
    "    #def transform(self,X,y=None):\n",
    "        "
   ]
  },
  {
   "cell_type": "code",
   "execution_count": 29,
   "metadata": {},
   "outputs": [],
   "source": [
    "num_attribs = [\"white_elo\",\"black_elo\",\"white_rd\",\"black_rd\",\"whiteiscomp\",\"blackiscomp\",\"plycount\"]"
   ]
  },
  {
   "cell_type": "code",
   "execution_count": 33,
   "metadata": {},
   "outputs": [],
   "source": [
    "from sklearn.pipeline import Pipeline"
   ]
  },
  {
   "cell_type": "code",
   "execution_count": 34,
   "metadata": {},
   "outputs": [],
   "source": [
    "num_pipeline = Pipeline([('selector',DataFrameSelector(num_attribs)),('scaler',StandardScaler())])"
   ]
  },
  {
   "cell_type": "code",
   "execution_count": 35,
   "metadata": {},
   "outputs": [],
   "source": [
    "from sklearn.preprocessing import LabelEncoder"
   ]
  },
  {
   "cell_type": "code",
   "execution_count": 36,
   "metadata": {},
   "outputs": [],
   "source": [
    "encoder = LabelEncoder()"
   ]
  },
  {
   "cell_type": "code",
   "execution_count": 37,
   "metadata": {},
   "outputs": [],
   "source": [
    "chess_label = train_data[\"commentaries\"]"
   ]
  },
  {
   "cell_type": "code",
   "execution_count": 38,
   "metadata": {},
   "outputs": [],
   "source": [
    "chess_label_encoded = encoder.fit_transform(chess_label)"
   ]
  },
  {
   "cell_type": "code",
   "execution_count": 41,
   "metadata": {},
   "outputs": [
    {
     "name": "stdout",
     "output_type": "stream",
     "text": [
      "['Black checkmated' 'Black forfeits by disconnection'\n",
      " 'Black forfeits on time'\n",
      " 'Black ran out of time and White has no material to mate' 'Black resigns'\n",
      " 'Game drawn by mutual agreement' 'Game drawn by repetition'\n",
      " 'Game drawn by stalemate' 'Game drawn by the 50 move rule'\n",
      " 'Neither player has mating material' 'White checkmated'\n",
      " 'White forfeits by disconnection' 'White forfeits on time'\n",
      " 'White ran out of time and Black has no material to mate' 'White resigns']\n"
     ]
    }
   ],
   "source": [
    "print(encoder.classes_)"
   ]
  },
  {
   "cell_type": "code",
   "execution_count": 42,
   "metadata": {},
   "outputs": [],
   "source": [
    "train_data_cleaned = num_pipeline.fit_transform(train_data)"
   ]
  },
  {
   "cell_type": "code",
   "execution_count": 43,
   "metadata": {},
   "outputs": [
    {
     "data": {
      "text/plain": [
       "array([[ 0.82357715, -1.52862896, -0.19971086, ...,  1.00655195,\n",
       "        -1.00655195, -0.30815309],\n",
       "       [-1.49854742,  1.57294897,  4.97255019, ..., -0.9934907 ,\n",
       "         0.9934907 , -0.64156686],\n",
       "       [-1.42974372,  0.57221885, -0.10542039, ..., -0.9934907 ,\n",
       "         0.9934907 , -1.28616683],\n",
       "       ...,\n",
       "       [-0.85179272, -0.07208684, -0.46715293, ..., -0.9934907 ,\n",
       "         0.9934907 , -0.33038067],\n",
       "       [ 0.02201415, -0.25372621, -0.52887033, ..., -0.9934907 ,\n",
       "         0.9934907 ,  1.60341924],\n",
       "       [-0.5456163 , -0.26400769, -0.4877254 , ...,  1.00655195,\n",
       "        -1.00655195,  0.98104685]])"
      ]
     },
     "execution_count": 43,
     "metadata": {},
     "output_type": "execute_result"
    }
   ],
   "source": [
    "train_data_cleaned"
   ]
  },
  {
   "cell_type": "code",
   "execution_count": 44,
   "metadata": {},
   "outputs": [],
   "source": [
    "from sklearn.linear_model import SGDClassifier"
   ]
  },
  {
   "cell_type": "code",
   "execution_count": 45,
   "metadata": {},
   "outputs": [],
   "source": [
    "sgd_classifier = SGDClassifier()"
   ]
  },
  {
   "cell_type": "code",
   "execution_count": 46,
   "metadata": {},
   "outputs": [],
   "source": [
    "from sklearn.model_selection import cross_val_score"
   ]
  },
  {
   "cell_type": "code",
   "execution_count": 149,
   "metadata": {},
   "outputs": [
    {
     "data": {
      "text/plain": [
       "array([0.59952175, 0.59995444, 0.59673009])"
      ]
     },
     "execution_count": 149,
     "metadata": {},
     "output_type": "execute_result"
    }
   ],
   "source": [
    "cross_val_score(extra_clf,X_new_train,chess_label_encoded,scoring='accuracy',cv=3)"
   ]
  },
  {
   "cell_type": "code",
   "execution_count": 49,
   "metadata": {},
   "outputs": [],
   "source": [
    "from sklearn.tree import DecisionTreeClassifier"
   ]
  },
  {
   "cell_type": "code",
   "execution_count": 50,
   "metadata": {},
   "outputs": [],
   "source": [
    "tree_clf = DecisionTreeClassifier()"
   ]
  },
  {
   "cell_type": "code",
   "execution_count": 52,
   "metadata": {},
   "outputs": [],
   "source": [
    "from sklearn.ensemble import RandomForestClassifier"
   ]
  },
  {
   "cell_type": "code",
   "execution_count": 53,
   "metadata": {},
   "outputs": [],
   "source": [
    "forest_clf = RandomForestClassifier(n_estimators=100)"
   ]
  },
  {
   "cell_type": "code",
   "execution_count": 55,
   "metadata": {},
   "outputs": [],
   "source": [
    "from sklearn.ensemble import AdaBoostClassifier"
   ]
  },
  {
   "cell_type": "code",
   "execution_count": 56,
   "metadata": {},
   "outputs": [],
   "source": [
    "ada_clf = AdaBoostClassifier(tree_clf)"
   ]
  },
  {
   "cell_type": "code",
   "execution_count": 59,
   "metadata": {},
   "outputs": [],
   "source": [
    "from sklearn.svm import SVC"
   ]
  },
  {
   "cell_type": "code",
   "execution_count": 61,
   "metadata": {},
   "outputs": [
    {
     "data": {
      "text/plain": [
       "(52676, 19)"
      ]
     },
     "execution_count": 61,
     "metadata": {},
     "output_type": "execute_result"
    }
   ],
   "source": [
    "train_data.shape"
   ]
  },
  {
   "cell_type": "code",
   "execution_count": 69,
   "metadata": {},
   "outputs": [
    {
     "data": {
      "text/plain": [
       "0        12:35:00\n",
       "1        05:13:00\n",
       "2        12:18:00\n",
       "3        09:30:00\n",
       "4        18:40:00\n",
       "5        02:05:00\n",
       "6        02:34:00\n",
       "7        03:55:00\n",
       "8        10:05:00\n",
       "9        11:43:00\n",
       "10       13:47:00\n",
       "11       04:32:00\n",
       "12       07:36:00\n",
       "13       08:33:00\n",
       "14       02:47:00\n",
       "15       23:18:00\n",
       "16       12:07:00\n",
       "17       10:05:00\n",
       "18       03:17:00\n",
       "19       13:10:00\n",
       "20       07:50:00\n",
       "21       04:51:00\n",
       "22       18:16:00\n",
       "23       06:27:00\n",
       "24       08:50:00\n",
       "25       07:10:00\n",
       "26       03:51:00\n",
       "27       12:35:00\n",
       "28       05:42:00\n",
       "29       12:59:00\n",
       "           ...   \n",
       "52646    09:05:00\n",
       "52647    02:54:00\n",
       "52648    07:05:00\n",
       "52649    13:27:00\n",
       "52650    05:44:00\n",
       "52651    02:49:00\n",
       "52652    08:01:00\n",
       "52653    04:39:00\n",
       "52654    02:13:00\n",
       "52655    09:27:00\n",
       "52656    08:14:00\n",
       "52657    12:30:00\n",
       "52658    03:49:00\n",
       "52659    12:31:00\n",
       "52660    13:07:00\n",
       "52661    02:34:00\n",
       "52662    06:31:00\n",
       "52663    00:37:00\n",
       "52664    01:10:00\n",
       "52665    15:09:00\n",
       "52666    13:20:00\n",
       "52667    01:39:00\n",
       "52668    15:48:00\n",
       "52669    13:57:00\n",
       "52670    01:10:00\n",
       "52671    18:28:00\n",
       "52672    20:57:00\n",
       "52673    08:16:00\n",
       "52674    05:55:00\n",
       "52675    00:26:00\n",
       "Name: time, Length: 52676, dtype: object"
      ]
     },
     "execution_count": 69,
     "metadata": {},
     "output_type": "execute_result"
    }
   ],
   "source": [
    "train_data[\"time\"]"
   ]
  },
  {
   "cell_type": "code",
   "execution_count": 72,
   "metadata": {},
   "outputs": [],
   "source": [
    "train_data['time'] = train_data['time'].apply(lambda x: int(str(x)[:2]))*3600+train_data['time'].apply(lambda x: int(str(x)[3:5]))*60+train_data['time'].apply(lambda x: int(str(x)[6:]))"
   ]
  },
  {
   "cell_type": "code",
   "execution_count": 74,
   "metadata": {},
   "outputs": [],
   "source": [
    "train_data[\"white_clock\"]=train_data['white_clock'].apply(lambda x: int(str(x)[:2]))*3600+train_data['white_clock'].apply(lambda x: int(str(x)[3:5]))+train_data['white_clock'].apply(lambda x: int(str(x)[6:]))"
   ]
  },
  {
   "cell_type": "code",
   "execution_count": 124,
   "metadata": {},
   "outputs": [],
   "source": [
    "num_attribs = ['eco2',\"white_elo\",\"black_elo\",\"white_rd\",\"black_rd\",\"whiteiscomp\",\"blackiscomp\",\"plycount\",\"time\",\"white_clock\"]"
   ]
  },
  {
   "cell_type": "code",
   "execution_count": 76,
   "metadata": {},
   "outputs": [],
   "source": [
    "num_pipeline = Pipeline([('selector',DataFrameSelector(num_attribs)),('scaler',StandardScaler())])"
   ]
  },
  {
   "cell_type": "code",
   "execution_count": 77,
   "metadata": {},
   "outputs": [],
   "source": [
    "X = num_pipeline.fit_transform(train_data)"
   ]
  },
  {
   "cell_type": "code",
   "execution_count": 78,
   "metadata": {},
   "outputs": [
    {
     "data": {
      "text/plain": [
       "(52676, 9)"
      ]
     },
     "execution_count": 78,
     "metadata": {},
     "output_type": "execute_result"
    }
   ],
   "source": [
    "X.shape"
   ]
  },
  {
   "cell_type": "code",
   "execution_count": 79,
   "metadata": {},
   "outputs": [
    {
     "data": {
      "text/plain": [
       "(52676, 7)"
      ]
     },
     "execution_count": 79,
     "metadata": {},
     "output_type": "execute_result"
    }
   ],
   "source": [
    "train_data_cleaned.shape"
   ]
  },
  {
   "cell_type": "code",
   "execution_count": 94,
   "metadata": {},
   "outputs": [],
   "source": [
    "forest_clf1 = RandomForestClassifier(n_estimators=100)"
   ]
  },
  {
   "cell_type": "code",
   "execution_count": 87,
   "metadata": {},
   "outputs": [],
   "source": [
    "train_data['eco1']=train_data['eco'].apply(lambda x: (str(x)[:1]))"
   ]
  },
  {
   "cell_type": "code",
   "execution_count": 122,
   "metadata": {},
   "outputs": [],
   "source": [
    "train_data['eco2']=train_data['eco'].apply(lambda x: int(str(x)[1:]))"
   ]
  },
  {
   "cell_type": "code",
   "execution_count": 123,
   "metadata": {},
   "outputs": [
    {
     "data": {
      "text/plain": [
       "0        53\n",
       "1        42\n",
       "2         0\n",
       "3        10\n",
       "4        18\n",
       "5         0\n",
       "6        22\n",
       "7        91\n",
       "8        62\n",
       "9        50\n",
       "10       33\n",
       "11       52\n",
       "12       68\n",
       "13       10\n",
       "14       21\n",
       "15       12\n",
       "16       50\n",
       "17       30\n",
       "18        0\n",
       "19       78\n",
       "20       18\n",
       "21        0\n",
       "22       45\n",
       "23       11\n",
       "24       36\n",
       "25       92\n",
       "26        0\n",
       "27        0\n",
       "28       44\n",
       "29        5\n",
       "         ..\n",
       "52646     1\n",
       "52647    40\n",
       "52648     0\n",
       "52649    30\n",
       "52650     0\n",
       "52651    85\n",
       "52652    45\n",
       "52653    23\n",
       "52654    43\n",
       "52655     0\n",
       "52656    50\n",
       "52657    15\n",
       "52658     0\n",
       "52659    30\n",
       "52660    50\n",
       "52661    45\n",
       "52662    13\n",
       "52663    90\n",
       "52664    50\n",
       "52665     4\n",
       "52666     0\n",
       "52667    43\n",
       "52668    11\n",
       "52669    35\n",
       "52670    33\n",
       "52671    46\n",
       "52672     0\n",
       "52673     0\n",
       "52674    55\n",
       "52675    56\n",
       "Name: eco2, Length: 52676, dtype: int64"
      ]
     },
     "execution_count": 123,
     "metadata": {},
     "output_type": "execute_result"
    }
   ],
   "source": [
    "train_data['eco2']"
   ]
  },
  {
   "cell_type": "code",
   "execution_count": 141,
   "metadata": {},
   "outputs": [
    {
     "ename": "SyntaxError",
     "evalue": "invalid syntax (<ipython-input-141-935424c3e7ac>, line 1)",
     "output_type": "error",
     "traceback": [
      "\u001b[0;36m  File \u001b[0;32m\"<ipython-input-141-935424c3e7ac>\"\u001b[0;36m, line \u001b[0;32m1\u001b[0m\n\u001b[0;31m    train_data['eco1']=train_data['eco1'].apply(lambda x='0' if x[0]=='A':)\u001b[0m\n\u001b[0m                                                                         ^\u001b[0m\n\u001b[0;31mSyntaxError\u001b[0m\u001b[0;31m:\u001b[0m invalid syntax\n"
     ]
    }
   ],
   "source": [
    "train_data['eco1']=train_data['eco1'].apply(lambda x='0' if x[0]=='A':)"
   ]
  },
  {
   "cell_type": "code",
   "execution_count": 96,
   "metadata": {},
   "outputs": [
    {
     "data": {
      "text/html": [
       "<div>\n",
       "<style scoped>\n",
       "    .dataframe tbody tr th:only-of-type {\n",
       "        vertical-align: middle;\n",
       "    }\n",
       "\n",
       "    .dataframe tbody tr th {\n",
       "        vertical-align: top;\n",
       "    }\n",
       "\n",
       "    .dataframe thead th {\n",
       "        text-align: right;\n",
       "    }\n",
       "</style>\n",
       "<table border=\"1\" class=\"dataframe\">\n",
       "  <thead>\n",
       "    <tr style=\"text-align: right;\">\n",
       "      <th></th>\n",
       "      <th>id</th>\n",
       "      <th>game</th>\n",
       "      <th>white</th>\n",
       "      <th>black</th>\n",
       "      <th>white_elo</th>\n",
       "      <th>black_elo</th>\n",
       "      <th>white_rd</th>\n",
       "      <th>black_rd</th>\n",
       "      <th>whiteiscomp</th>\n",
       "      <th>blackiscomp</th>\n",
       "      <th>timecontrol</th>\n",
       "      <th>date</th>\n",
       "      <th>time</th>\n",
       "      <th>white_clock</th>\n",
       "      <th>black_clock</th>\n",
       "      <th>eco</th>\n",
       "      <th>plycount</th>\n",
       "      <th>moves</th>\n",
       "    </tr>\n",
       "  </thead>\n",
       "  <tbody>\n",
       "    <tr>\n",
       "      <th>0</th>\n",
       "      <td>76456</td>\n",
       "      <td>\"juropbike\" vs \"BabyLurking\"</td>\n",
       "      <td>juropbike</td>\n",
       "      <td>BabyLurking</td>\n",
       "      <td>2319</td>\n",
       "      <td>2921</td>\n",
       "      <td>39.8</td>\n",
       "      <td>16.7</td>\n",
       "      <td>False</td>\n",
       "      <td>True</td>\n",
       "      <td>60+0</td>\n",
       "      <td>NaN</td>\n",
       "      <td>05:24:00</td>\n",
       "      <td>01:00.0</td>\n",
       "      <td>01:00.0</td>\n",
       "      <td>A00</td>\n",
       "      <td>0</td>\n",
       "      <td>1. d4 Nf6 2. c4 e6 3. Nf3 b6 4. g3 Ba6 5. b3 B...</td>\n",
       "    </tr>\n",
       "    <tr>\n",
       "      <th>1</th>\n",
       "      <td>17495</td>\n",
       "      <td>\"nikst\" vs \"JuniorLurking\"</td>\n",
       "      <td>nikst</td>\n",
       "      <td>JuniorLurking</td>\n",
       "      <td>2048</td>\n",
       "      <td>2141</td>\n",
       "      <td>39.1</td>\n",
       "      <td>28.2</td>\n",
       "      <td>False</td>\n",
       "      <td>True</td>\n",
       "      <td>900+0</td>\n",
       "      <td>NaN</td>\n",
       "      <td>08:15:00</td>\n",
       "      <td>15:00.0</td>\n",
       "      <td>15:00.0</td>\n",
       "      <td>A45</td>\n",
       "      <td>19</td>\n",
       "      <td>1. e4 c5 2. Nc3 Nc6 3. Bc4 Nf6 4. d4 cxd4</td>\n",
       "    </tr>\n",
       "    <tr>\n",
       "      <th>2</th>\n",
       "      <td>18471</td>\n",
       "      <td>\"KingLudwig\" vs \"GriffySr\"</td>\n",
       "      <td>KingLudwig</td>\n",
       "      <td>GriffySr</td>\n",
       "      <td>2112</td>\n",
       "      <td>2005</td>\n",
       "      <td>34.8</td>\n",
       "      <td>19.9</td>\n",
       "      <td>False</td>\n",
       "      <td>True</td>\n",
       "      <td>300+0</td>\n",
       "      <td>NaN</td>\n",
       "      <td>02:40:00</td>\n",
       "      <td>05:00.0</td>\n",
       "      <td>05:00.0</td>\n",
       "      <td>A00</td>\n",
       "      <td>47</td>\n",
       "      <td>1. d4 Nf6 2. Nf3 g6 3. Nc3 Bg7 4. e4 O-O 5. e5...</td>\n",
       "    </tr>\n",
       "    <tr>\n",
       "      <th>3</th>\n",
       "      <td>72817</td>\n",
       "      <td>\"joshllyman\" vs \"JuniorLurking\"</td>\n",
       "      <td>joshllyman</td>\n",
       "      <td>JuniorLurking</td>\n",
       "      <td>2542</td>\n",
       "      <td>3099</td>\n",
       "      <td>48.5</td>\n",
       "      <td>17.9</td>\n",
       "      <td>False</td>\n",
       "      <td>True</td>\n",
       "      <td>60+0</td>\n",
       "      <td>NaN</td>\n",
       "      <td>07:52:00</td>\n",
       "      <td>01:00.0</td>\n",
       "      <td>01:00.0</td>\n",
       "      <td>A00</td>\n",
       "      <td>0</td>\n",
       "      <td>1. b3 e5 2. g3 d5 3. d3 Nf6 4. Bg5 h6 5. Bxf6 ...</td>\n",
       "    </tr>\n",
       "    <tr>\n",
       "      <th>4</th>\n",
       "      <td>51510</td>\n",
       "      <td>\"Knightsmasher\" vs \"Chhirag\"</td>\n",
       "      <td>Knightsmasher</td>\n",
       "      <td>Chhirag</td>\n",
       "      <td>2419</td>\n",
       "      <td>1671</td>\n",
       "      <td>52.0</td>\n",
       "      <td>296.3</td>\n",
       "      <td>True</td>\n",
       "      <td>False</td>\n",
       "      <td>900+0</td>\n",
       "      <td>NaN</td>\n",
       "      <td>14:51:00</td>\n",
       "      <td>15:00.0</td>\n",
       "      <td>15:00.0</td>\n",
       "      <td>C42</td>\n",
       "      <td>29</td>\n",
       "      <td>1. e4 c6 2. d4 d5 3. Nc3 dxe4 4. Nxe4 Bf5 5. N...</td>\n",
       "    </tr>\n",
       "  </tbody>\n",
       "</table>\n",
       "</div>"
      ],
      "text/plain": [
       "      id                              game          white          black  \\\n",
       "0  76456      \"juropbike\" vs \"BabyLurking\"      juropbike    BabyLurking   \n",
       "1  17495        \"nikst\" vs \"JuniorLurking\"          nikst  JuniorLurking   \n",
       "2  18471        \"KingLudwig\" vs \"GriffySr\"     KingLudwig       GriffySr   \n",
       "3  72817   \"joshllyman\" vs \"JuniorLurking\"     joshllyman  JuniorLurking   \n",
       "4  51510      \"Knightsmasher\" vs \"Chhirag\"  Knightsmasher        Chhirag   \n",
       "\n",
       "   white_elo  black_elo  white_rd  black_rd  whiteiscomp  blackiscomp  \\\n",
       "0       2319       2921      39.8      16.7        False         True   \n",
       "1       2048       2141      39.1      28.2        False         True   \n",
       "2       2112       2005      34.8      19.9        False         True   \n",
       "3       2542       3099      48.5      17.9        False         True   \n",
       "4       2419       1671      52.0     296.3         True        False   \n",
       "\n",
       "  timecontrol  date      time white_clock black_clock  eco  plycount  \\\n",
       "0        60+0   NaN  05:24:00     01:00.0     01:00.0  A00         0   \n",
       "1       900+0   NaN  08:15:00     15:00.0     15:00.0  A45        19   \n",
       "2       300+0   NaN  02:40:00     05:00.0     05:00.0  A00        47   \n",
       "3        60+0   NaN  07:52:00     01:00.0     01:00.0  A00         0   \n",
       "4       900+0   NaN  14:51:00     15:00.0     15:00.0  C42        29   \n",
       "\n",
       "                                               moves  \n",
       "0  1. d4 Nf6 2. c4 e6 3. Nf3 b6 4. g3 Ba6 5. b3 B...  \n",
       "1         1. e4 c5 2. Nc3 Nc6 3. Bc4 Nf6 4. d4 cxd4   \n",
       "2  1. d4 Nf6 2. Nf3 g6 3. Nc3 Bg7 4. e4 O-O 5. e5...  \n",
       "3  1. b3 e5 2. g3 d5 3. d3 Nf6 4. Bg5 h6 5. Bxf6 ...  \n",
       "4  1. e4 c6 2. d4 d5 3. Nc3 dxe4 4. Nxe4 Bf5 5. N...  "
      ]
     },
     "execution_count": 96,
     "metadata": {},
     "output_type": "execute_result"
    }
   ],
   "source": [
    "test_data.head()"
   ]
  },
  {
   "cell_type": "code",
   "execution_count": 97,
   "metadata": {},
   "outputs": [
    {
     "data": {
      "text/plain": [
       "RandomForestClassifier(bootstrap=True, class_weight=None, criterion='gini',\n",
       "            max_depth=None, max_features='auto', max_leaf_nodes=None,\n",
       "            min_impurity_decrease=0.0, min_impurity_split=None,\n",
       "            min_samples_leaf=1, min_samples_split=2,\n",
       "            min_weight_fraction_leaf=0.0, n_estimators=100, n_jobs=1,\n",
       "            oob_score=False, random_state=None, verbose=0,\n",
       "            warm_start=False)"
      ]
     },
     "execution_count": 97,
     "metadata": {},
     "output_type": "execute_result"
    }
   ],
   "source": [
    "forest_clf1.fit(X,chess_label_encoded)"
   ]
  },
  {
   "cell_type": "code",
   "execution_count": 98,
   "metadata": {},
   "outputs": [],
   "source": [
    "test_data[\"whiteiscomp\"]=test_data[\"whiteiscomp\"].astype(int)\n",
    "test_data[\"blackiscomp\"]=test_data[\"blackiscomp\"].astype(int)"
   ]
  },
  {
   "cell_type": "code",
   "execution_count": 99,
   "metadata": {},
   "outputs": [],
   "source": [
    "test_data['time'] = test_data['time'].apply(lambda x: int(str(x)[:2]))*3600+test_data['time'].apply(lambda x: int(str(x)[3:5]))*60+test_data['time'].apply(lambda x: int(str(x)[6:]))"
   ]
  },
  {
   "cell_type": "code",
   "execution_count": 100,
   "metadata": {},
   "outputs": [],
   "source": [
    "test_data[\"white_clock\"]=test_data['white_clock'].apply(lambda x: int(str(x)[:2]))*3600+test_data['white_clock'].apply(lambda x: int(str(x)[3:5]))+test_data['white_clock'].apply(lambda x: int(str(x)[6:]))"
   ]
  },
  {
   "cell_type": "code",
   "execution_count": 101,
   "metadata": {},
   "outputs": [],
   "source": [
    "X_test = num_pipeline.transform(test_data)"
   ]
  },
  {
   "cell_type": "code",
   "execution_count": 103,
   "metadata": {},
   "outputs": [
    {
     "data": {
      "text/plain": [
       "(28365, 9)"
      ]
     },
     "execution_count": 103,
     "metadata": {},
     "output_type": "execute_result"
    }
   ],
   "source": [
    "X_test.shape"
   ]
  },
  {
   "cell_type": "code",
   "execution_count": 104,
   "metadata": {},
   "outputs": [],
   "source": [
    "y_pred = forest_clf1.predict(X_test)"
   ]
  },
  {
   "cell_type": "code",
   "execution_count": 107,
   "metadata": {},
   "outputs": [
    {
     "name": "stderr",
     "output_type": "stream",
     "text": [
      "/home/shruti/Deep_Learning/env/lib/python3.5/site-packages/sklearn/preprocessing/label.py:151: DeprecationWarning: The truth value of an empty array is ambiguous. Returning False, but in future this will result in an error. Use `array.size > 0` to check that an array is not empty.\n",
      "  if diff:\n"
     ]
    }
   ],
   "source": [
    "chess_predictions = pd.DataFrame(test_data[\"id\"],columns=[\"id\"])\n",
    "y_pred_pred = encoder.inverse_transform(y_pred)\n",
    "chess_predictions[\"commentaries\"]= y_pred_pred"
   ]
  },
  {
   "cell_type": "code",
   "execution_count": 109,
   "metadata": {},
   "outputs": [
    {
     "data": {
      "text/plain": [
       "Black resigns                                              9788\n",
       "White resigns                                              9496\n",
       "Black checkmated                                           3497\n",
       "White checkmated                                           3079\n",
       "White forfeits on time                                      700\n",
       "Black forfeits on time                                      686\n",
       "Black forfeits by disconnection                             309\n",
       "Game drawn by repetition                                    287\n",
       "White forfeits by disconnection                             273\n",
       "Game drawn by mutual agreement                              101\n",
       "Game drawn by the 50 move rule                               85\n",
       "Neither player has mating material                           52\n",
       "Game drawn by stalemate                                       8\n",
       "White ran out of time and Black has no material to mate       2\n",
       "Black ran out of time and White has no material to mate       2\n",
       "Name: commentaries, dtype: int64"
      ]
     },
     "execution_count": 109,
     "metadata": {},
     "output_type": "execute_result"
    }
   ],
   "source": [
    "chess_predictions[\"commentaries\"].value_counts()"
   ]
  },
  {
   "cell_type": "code",
   "execution_count": 111,
   "metadata": {},
   "outputs": [],
   "source": [
    "chess_predictions.to_csv(\"Data_hack.csv\",index=False)"
   ]
  },
  {
   "cell_type": "code",
   "execution_count": 119,
   "metadata": {},
   "outputs": [],
   "source": [
    "cat_attribs = ['eco1']\n",
    "cat_pipeline = Pipeline([(\"selector\",DataFrameSelector(cat_attribs)),('binarizer',LabelBinarizer_new())])"
   ]
  },
  {
   "cell_type": "code",
   "execution_count": 126,
   "metadata": {},
   "outputs": [],
   "source": [
    "from sklearn.pipeline import Pipeline,FeatureUnion\n",
    "full_pipeline = FeatureUnion(transformer_list=[(\"num_pipeline\",num_pipeline),(\"cat_pipeline\",cat_pipeline)])"
   ]
  },
  {
   "cell_type": "code",
   "execution_count": 128,
   "metadata": {},
   "outputs": [
    {
     "name": "stdout",
     "output_type": "stream",
     "text": [
      "Initializing encoder\n"
     ]
    }
   ],
   "source": [
    "X_new_train = full_pipeline.fit_transform(train_data)"
   ]
  },
  {
   "cell_type": "code",
   "execution_count": 144,
   "metadata": {},
   "outputs": [],
   "source": [
    "X_new_train.shape\n",
    "forest_clf2 = RandomForestClassifier(n_estimators=200)"
   ]
  },
  {
   "cell_type": "code",
   "execution_count": 138,
   "metadata": {},
   "outputs": [],
   "source": [
    "ada_clf1 = AdaBoostClassifier(tree_clf)"
   ]
  },
  {
   "cell_type": "code",
   "execution_count": 147,
   "metadata": {},
   "outputs": [],
   "source": [
    "from sklearn.ensemble import ExtraTreesClassifier"
   ]
  },
  {
   "cell_type": "code",
   "execution_count": 148,
   "metadata": {},
   "outputs": [],
   "source": [
    "extra_clf = ExtraTreesClassifier(n_estimators=100)"
   ]
  },
  {
   "cell_type": "code",
   "execution_count": null,
   "metadata": {},
   "outputs": [],
   "source": []
  }
 ],
 "metadata": {
  "kernelspec": {
   "display_name": "Python 3",
   "language": "python",
   "name": "python3"
  },
  "language_info": {
   "codemirror_mode": {
    "name": "ipython",
    "version": 3
   },
   "file_extension": ".py",
   "mimetype": "text/x-python",
   "name": "python",
   "nbconvert_exporter": "python",
   "pygments_lexer": "ipython3",
   "version": "3.5.2"
  }
 },
 "nbformat": 4,
 "nbformat_minor": 2
}
